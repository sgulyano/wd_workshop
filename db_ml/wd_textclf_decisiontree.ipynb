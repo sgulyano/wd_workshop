{
  "nbformat": 4,
  "nbformat_minor": 0,
  "metadata": {
    "colab": {
      "name": "wd_textclf_decisiontree.ipynb",
      "provenance": [],
      "collapsed_sections": []
    },
    "language_info": {
      "codemirror_mode": {
        "name": "ipython",
        "version": 3
      },
      "file_extension": ".py",
      "mimetype": "text/x-python",
      "name": "python",
      "nbconvert_exporter": "python",
      "pygments_lexer": "ipython3",
      "version": "3.7.3"
    },
    "kernelspec": {
      "display_name": "Python 3",
      "language": "python",
      "name": "python3"
    }
  },
  "cells": [
    {
      "cell_type": "markdown",
      "metadata": {
        "id": "72DODfc1kGos",
        "colab_type": "text"
      },
      "source": [
        "# Text Classification Using Decision Tree"
      ]
    },
    {
      "cell_type": "markdown",
      "metadata": {
        "id": "Gv9MxIbTkNUZ",
        "colab_type": "text"
      },
      "source": [
        "The [Sentiment Labelled Sentences Data Set](http://archive.ics.uci.edu/ml/datasets/Sentiment+Labelled+Sentences) is the data set from [UCI](http://archive.ics.uci.edu/ml/index.php). It provides many data sets which good for praticing Machine Learning.\n",
        "\n",
        "**Citation** 'From Group to Individual Labels using Deep Features', Kotzias et. al,. KDD 2015\n",
        "\n",
        "-----------------------------------\n",
        "**Data Set Information:**\n",
        "\n",
        "This dataset was created for the Paper 'From Group to Individual Labels using Deep Features', Kotzias et. al,. KDD 2015 \n",
        "Please cite the paper if you want to use it :) \n",
        "\n",
        "It contains sentences labelled with positive or negative sentiment. \n",
        "\n",
        "**Format: ** sentence score \n",
        "\n",
        "**Details: **\n",
        "\n",
        "Score is either 1 (for positive) or 0 (for negative)\t\n",
        "The sentences come from three different websites/fields:  \n",
        "\n",
        "*   imdb.com\n",
        "*   amazon.com\n",
        "*   yelp.com\n",
        "\n",
        "For each website, there exist 500 positive and 500 negative sentences. Those were selected randomly for larger datasets of reviews. \n",
        "We attempted to select sentences that have a clearly positive or negative connotaton, the goal was for no neutral sentences to be selected. \n",
        "\n",
        "**Attribute Information:**\n",
        "\n",
        "The attributes are text sentences, extracted from reviews of products, movies, and restaurants"
      ]
    },
    {
      "cell_type": "markdown",
      "metadata": {
        "id": "FX5k0l6sGmFT",
        "colab_type": "text"
      },
      "source": [
        "-----------------------------\n",
        "**Download Data Set**\n",
        "\n",
        "!wget to download the dataset and unzip the file."
      ]
    },
    {
      "cell_type": "code",
      "metadata": {
        "id": "ThMDukqHkfK9",
        "colab_type": "code",
        "outputId": "1120c771-6969-4499-bc1c-7f5b2180f075",
        "colab": {
          "base_uri": "https://localhost:8080/",
          "height": 204
        }
      },
      "source": [
        "!wget http://archive.ics.uci.edu/ml/machine-learning-databases/00331/sentiment%20labelled%20sentences.zip -O sentiment.zip"
      ],
      "execution_count": 0,
      "outputs": [
        {
          "output_type": "stream",
          "text": [
            "--2019-12-09 05:00:31--  http://archive.ics.uci.edu/ml/machine-learning-databases/00331/sentiment%20labelled%20sentences.zip\n",
            "Resolving archive.ics.uci.edu (archive.ics.uci.edu)... 128.195.10.252\n",
            "Connecting to archive.ics.uci.edu (archive.ics.uci.edu)|128.195.10.252|:80... connected.\n",
            "HTTP request sent, awaiting response... 200 OK\n",
            "Length: 84188 (82K) [application/x-httpd-php]\n",
            "Saving to: ‘sentiment.zip’\n",
            "\n",
            "\rsentiment.zip         0%[                    ]       0  --.-KB/s               \rsentiment.zip       100%[===================>]  82.21K   540KB/s    in 0.2s    \n",
            "\n",
            "2019-12-09 05:00:32 (540 KB/s) - ‘sentiment.zip’ saved [84188/84188]\n",
            "\n"
          ],
          "name": "stdout"
        }
      ]
    },
    {
      "cell_type": "code",
      "metadata": {
        "id": "ESF5B51zl8Cl",
        "colab_type": "code",
        "outputId": "41062446-d012-43b1-a816-0cdae24438df",
        "colab": {
          "base_uri": "https://localhost:8080/",
          "height": 187
        }
      },
      "source": [
        "!unzip -o 'sentiment.zip'"
      ],
      "execution_count": 0,
      "outputs": [
        {
          "output_type": "stream",
          "text": [
            "Archive:  sentiment.zip\n",
            "  inflating: sentiment labelled sentences/.DS_Store  \n",
            "  inflating: __MACOSX/sentiment labelled sentences/._.DS_Store  \n",
            "  inflating: sentiment labelled sentences/amazon_cells_labelled.txt  \n",
            "  inflating: sentiment labelled sentences/imdb_labelled.txt  \n",
            "  inflating: __MACOSX/sentiment labelled sentences/._imdb_labelled.txt  \n",
            "  inflating: sentiment labelled sentences/readme.txt  \n",
            "  inflating: __MACOSX/sentiment labelled sentences/._readme.txt  \n",
            "  inflating: sentiment labelled sentences/yelp_labelled.txt  \n",
            "  inflating: __MACOSX/._sentiment labelled sentences  \n"
          ],
          "name": "stdout"
        }
      ]
    },
    {
      "cell_type": "code",
      "metadata": {
        "id": "PQzIdwHqkGot",
        "colab_type": "code",
        "colab": {}
      },
      "source": [
        "#Import library\n",
        "import pandas as pd\n",
        "import numpy as np\n",
        "import graphviz\n",
        "import matplotlib.pyplot as plt\n",
        "import seaborn as sns \n",
        "from sklearn import tree\n",
        "from sklearn.model_selection import train_test_split\n",
        "from sklearn.feature_extraction.text import CountVectorizer\n",
        "from sklearn.metrics import confusion_matrix\n",
        "from sklearn.metrics import accuracy_score \n",
        "from sklearn.metrics import classification_report "
      ],
      "execution_count": 0,
      "outputs": []
    },
    {
      "cell_type": "code",
      "metadata": {
        "id": "IfutiAugkGoy",
        "colab_type": "code",
        "colab": {}
      },
      "source": [
        "#Import dataset\n",
        "filepath = './sentiment labelled sentences/amazon_cells_labelled.txt'\n",
        "df = pd.read_csv(filepath, names=['sentence', 'label'], sep='\\t')"
      ],
      "execution_count": 0,
      "outputs": []
    },
    {
      "cell_type": "markdown",
      "metadata": {
        "id": "5DnfQi4lHu3e",
        "colab_type": "text"
      },
      "source": [
        "## Showing Dataset\n",
        "\n",
        "For this example, we are using the 'amazon.com' data set. (amazon_cells_labelled.txt)"
      ]
    },
    {
      "cell_type": "code",
      "metadata": {
        "id": "C7G7W_3skGo0",
        "colab_type": "code",
        "outputId": "398ef988-d172-4032-f981-e8f2f5de78a1",
        "colab": {
          "base_uri": "https://localhost:8080/",
          "height": 34
        }
      },
      "source": [
        "print(\"Data size:\" , df.shape)"
      ],
      "execution_count": 0,
      "outputs": [
        {
          "output_type": "stream",
          "text": [
            "Data size: (1000, 2)\n"
          ],
          "name": "stdout"
        }
      ]
    },
    {
      "cell_type": "code",
      "metadata": {
        "id": "YITSlTQ6kGo4",
        "colab_type": "code",
        "outputId": "13551134-54dd-48ca-e8d2-ee580cce07f1",
        "colab": {
          "base_uri": "https://localhost:8080/",
          "height": 359
        }
      },
      "source": [
        "df[:10]"
      ],
      "execution_count": 0,
      "outputs": [
        {
          "output_type": "execute_result",
          "data": {
            "text/html": [
              "<div>\n",
              "<style scoped>\n",
              "    .dataframe tbody tr th:only-of-type {\n",
              "        vertical-align: middle;\n",
              "    }\n",
              "\n",
              "    .dataframe tbody tr th {\n",
              "        vertical-align: top;\n",
              "    }\n",
              "\n",
              "    .dataframe thead th {\n",
              "        text-align: right;\n",
              "    }\n",
              "</style>\n",
              "<table border=\"1\" class=\"dataframe\">\n",
              "  <thead>\n",
              "    <tr style=\"text-align: right;\">\n",
              "      <th></th>\n",
              "      <th>sentence</th>\n",
              "      <th>label</th>\n",
              "    </tr>\n",
              "  </thead>\n",
              "  <tbody>\n",
              "    <tr>\n",
              "      <th>0</th>\n",
              "      <td>So there is no way for me to plug it in here i...</td>\n",
              "      <td>0</td>\n",
              "    </tr>\n",
              "    <tr>\n",
              "      <th>1</th>\n",
              "      <td>Good case, Excellent value.</td>\n",
              "      <td>1</td>\n",
              "    </tr>\n",
              "    <tr>\n",
              "      <th>2</th>\n",
              "      <td>Great for the jawbone.</td>\n",
              "      <td>1</td>\n",
              "    </tr>\n",
              "    <tr>\n",
              "      <th>3</th>\n",
              "      <td>Tied to charger for conversations lasting more...</td>\n",
              "      <td>0</td>\n",
              "    </tr>\n",
              "    <tr>\n",
              "      <th>4</th>\n",
              "      <td>The mic is great.</td>\n",
              "      <td>1</td>\n",
              "    </tr>\n",
              "    <tr>\n",
              "      <th>5</th>\n",
              "      <td>I have to jiggle the plug to get it to line up...</td>\n",
              "      <td>0</td>\n",
              "    </tr>\n",
              "    <tr>\n",
              "      <th>6</th>\n",
              "      <td>If you have several dozen or several hundred c...</td>\n",
              "      <td>0</td>\n",
              "    </tr>\n",
              "    <tr>\n",
              "      <th>7</th>\n",
              "      <td>If you are Razr owner...you must have this!</td>\n",
              "      <td>1</td>\n",
              "    </tr>\n",
              "    <tr>\n",
              "      <th>8</th>\n",
              "      <td>Needless to say, I wasted my money.</td>\n",
              "      <td>0</td>\n",
              "    </tr>\n",
              "    <tr>\n",
              "      <th>9</th>\n",
              "      <td>What a waste of money and time!.</td>\n",
              "      <td>0</td>\n",
              "    </tr>\n",
              "  </tbody>\n",
              "</table>\n",
              "</div>"
            ],
            "text/plain": [
              "                                            sentence  label\n",
              "0  So there is no way for me to plug it in here i...      0\n",
              "1                        Good case, Excellent value.      1\n",
              "2                             Great for the jawbone.      1\n",
              "3  Tied to charger for conversations lasting more...      0\n",
              "4                                  The mic is great.      1\n",
              "5  I have to jiggle the plug to get it to line up...      0\n",
              "6  If you have several dozen or several hundred c...      0\n",
              "7        If you are Razr owner...you must have this!      1\n",
              "8                Needless to say, I wasted my money.      0\n",
              "9                   What a waste of money and time!.      0"
            ]
          },
          "metadata": {
            "tags": []
          },
          "execution_count": 6
        }
      ]
    },
    {
      "cell_type": "code",
      "metadata": {
        "id": "qb2Abffe4Tfe",
        "colab_type": "code",
        "outputId": "00f6d0e4-e87a-4187-c76a-0c49b00dfef9",
        "colab": {
          "base_uri": "https://localhost:8080/",
          "height": 187
        }
      },
      "source": [
        "tf = ['Neg', 'Pos']\n",
        "for i in range(10):\n",
        "  print(i, f'\\t{tf[df.iloc[i].label]}\\t', df.iloc[i].sentence)"
      ],
      "execution_count": 0,
      "outputs": [
        {
          "output_type": "stream",
          "text": [
            "0 \tNeg\t So there is no way for me to plug it in here in the US unless I go by a converter.\n",
            "1 \tPos\t Good case, Excellent value.\n",
            "2 \tPos\t Great for the jawbone.\n",
            "3 \tNeg\t Tied to charger for conversations lasting more than 45 minutes.MAJOR PROBLEMS!!\n",
            "4 \tPos\t The mic is great.\n",
            "5 \tNeg\t I have to jiggle the plug to get it to line up right to get decent volume.\n",
            "6 \tNeg\t If you have several dozen or several hundred contacts, then imagine the fun of sending each of them one by one.\n",
            "7 \tPos\t If you are Razr owner...you must have this!\n",
            "8 \tNeg\t Needless to say, I wasted my money.\n",
            "9 \tNeg\t What a waste of money and time!.\n"
          ],
          "name": "stdout"
        }
      ]
    },
    {
      "cell_type": "markdown",
      "metadata": {
        "id": "SDpcviMGIMBs",
        "colab_type": "text"
      },
      "source": [
        "Here the imported dataframe is separated into two objects; sentences as X and label as Y. Then, they are split into train and test set (20% of the data set)."
      ]
    },
    {
      "cell_type": "code",
      "metadata": {
        "id": "NQ-owseYkGo7",
        "colab_type": "code",
        "colab": {}
      },
      "source": [
        "sentences = df['sentence'].values\n",
        "y = df['label'].values"
      ],
      "execution_count": 0,
      "outputs": []
    },
    {
      "cell_type": "code",
      "metadata": {
        "id": "elc9tRYzkGo9",
        "colab_type": "code",
        "outputId": "b877b60a-b549-4870-aed8-514b4da5fb89",
        "colab": {
          "base_uri": "https://localhost:8080/",
          "height": 85
        }
      },
      "source": [
        "#Split train and test set \n",
        "sentences_train, sentences_test, y_train, y_test = train_test_split(\n",
        "    sentences, y, test_size=0.2, random_state=1000)\n",
        "print('sentences_train ', sentences_train.shape)\n",
        "print('sentences_test \\t', sentences_test.shape)\n",
        "print('y_train \\t', y_train.shape)\n",
        "print('y_test  \\t', y_test.shape)"
      ],
      "execution_count": 0,
      "outputs": [
        {
          "output_type": "stream",
          "text": [
            "sentences_train  (800,)\n",
            "sentences_test \t (200,)\n",
            "y_train \t (800,)\n",
            "y_test  \t (200,)\n"
          ],
          "name": "stdout"
        }
      ]
    },
    {
      "cell_type": "markdown",
      "metadata": {
        "id": "SDpfb6DlItJz",
        "colab_type": "text"
      },
      "source": [
        "Since the data is text, it needs to be converted to vector. So, features can be extracted from the data set. "
      ]
    },
    {
      "cell_type": "code",
      "metadata": {
        "id": "epH0UErjkGo-",
        "colab_type": "code",
        "outputId": "9b6a281f-31cd-4247-bd0e-77c871edd8cc",
        "colab": {
          "base_uri": "https://localhost:8080/",
          "height": 119
        }
      },
      "source": [
        "#Features from text\n",
        "vectorizer = CountVectorizer(stop_words='english', token_pattern='(?u)\\\\b[a-zA-Z][a-zA-Z]+\\\\b')\n",
        "vectorizer.fit(sentences_train)"
      ],
      "execution_count": 0,
      "outputs": [
        {
          "output_type": "execute_result",
          "data": {
            "text/plain": [
              "CountVectorizer(analyzer='word', binary=False, decode_error='strict',\n",
              "                dtype=<class 'numpy.int64'>, encoding='utf-8', input='content',\n",
              "                lowercase=True, max_df=1.0, max_features=None, min_df=1,\n",
              "                ngram_range=(1, 1), preprocessor=None, stop_words='english',\n",
              "                strip_accents=None, token_pattern='(?u)\\\\b[a-zA-Z][a-zA-Z]+\\\\b',\n",
              "                tokenizer=None, vocabulary=None)"
            ]
          },
          "metadata": {
            "tags": []
          },
          "execution_count": 10
        }
      ]
    },
    {
      "cell_type": "code",
      "metadata": {
        "id": "BlYYaOqYkGpA",
        "colab_type": "code",
        "outputId": "dc9a81bd-53dd-44e8-a6ce-d894c109248d",
        "colab": {
          "base_uri": "https://localhost:8080/",
          "height": 54
        }
      },
      "source": [
        "print(vectorizer.get_feature_names()[:30])"
      ],
      "execution_count": 0,
      "outputs": [
        {
          "output_type": "stream",
          "text": [
            "['abhor', 'ability', 'able', 'abound', 'absolutel', 'absolutely', 'accept', 'acceptable', 'access', 'accessable', 'accessoryone', 'accidentally', 'accompanied', 'according', 'activate', 'activated', 'activesync', 'actually', 'ad', 'adapter', 'adapters', 'add', 'addition', 'address', 'adhesive', 'adorable', 'advertised', 'advise', 'ago', 'alarm']\n"
          ],
          "name": "stdout"
        }
      ]
    },
    {
      "cell_type": "markdown",
      "metadata": {
        "id": "j_k5TVsG3IWU",
        "colab_type": "text"
      },
      "source": [
        "`CountVectorizer` converts a collection of text documents to a matrix of token counts\n",
        "\n",
        "If you do not provide an a-priori dictionary and you do not use an analyzer that does some kind of feature selection then the number of features will be equal to the vocabulary size found by analyzing the data.\n",
        "\n",
        "For more details, see https://scikit-learn.org/stable/modules/generated/sklearn.feature_extraction.text.CountVectorizer.html"
      ]
    },
    {
      "cell_type": "code",
      "metadata": {
        "id": "5LspDVj47FFJ",
        "colab_type": "code",
        "outputId": "94259e5c-a929-46b2-b949-c553ad8dd28b",
        "colab": {
          "base_uri": "https://localhost:8080/",
          "height": 54
        }
      },
      "source": [
        "vectorizer = CountVectorizer(stop_words='english', token_pattern='(?u)\\\\b[a-zA-Z][a-zA-Z]+\\\\b')\n",
        "vectorizer.fit(sentences_train)\n",
        "print(vectorizer.get_feature_names()[:30])"
      ],
      "execution_count": 0,
      "outputs": [
        {
          "output_type": "stream",
          "text": [
            "['abhor', 'ability', 'able', 'abound', 'absolutel', 'absolutely', 'accept', 'acceptable', 'access', 'accessable', 'accessoryone', 'accidentally', 'accompanied', 'according', 'activate', 'activated', 'activesync', 'actually', 'ad', 'adapter', 'adapters', 'add', 'addition', 'address', 'adhesive', 'adorable', 'advertised', 'advise', 'ago', 'alarm']\n"
          ],
          "name": "stdout"
        }
      ]
    },
    {
      "cell_type": "markdown",
      "metadata": {
        "id": "TdMBxKx4_Piy",
        "colab_type": "text"
      },
      "source": [
        "### Bag of Words\n",
        "\n",
        "Use the (frequency of) occurrence of each word (in the vocabulary) to represent the documents/sentences.\n",
        "\n",
        "![bow](https://miro.medium.com/max/1024/1*j3HUg18QwjDJTJwW9ja5-Q.png)"
      ]
    },
    {
      "cell_type": "code",
      "metadata": {
        "id": "3vcVFZFh9MlA",
        "colab_type": "code",
        "outputId": "fa8c596b-64b6-494f-a499-f64afa510cae",
        "colab": {
          "base_uri": "https://localhost:8080/",
          "height": 51
        }
      },
      "source": [
        "analyze = vectorizer.build_analyzer()\n",
        "print(sentences_train[0])\n",
        "analyze(sentences_train[0]) "
      ],
      "execution_count": 0,
      "outputs": [
        {
          "output_type": "stream",
          "text": [
            "I love the look and feel of Samsung flipphones.\n"
          ],
          "name": "stdout"
        },
        {
          "output_type": "execute_result",
          "data": {
            "text/plain": [
              "['love', 'look', 'feel', 'samsung', 'flipphones']"
            ]
          },
          "metadata": {
            "tags": []
          },
          "execution_count": 13
        }
      ]
    },
    {
      "cell_type": "code",
      "metadata": {
        "id": "iONEnkX-44ev",
        "colab_type": "code",
        "colab": {}
      },
      "source": [
        "#Features from text\n",
        "vectorizer = CountVectorizer(stop_words='english', token_pattern='(?u)\\\\b[a-zA-Z][a-zA-Z]+\\\\b')\n",
        "vectorizer.fit(sentences_train)\n",
        "X_train = vectorizer.transform(sentences_train)\n",
        "X_test  = vectorizer.transform(sentences_test)"
      ],
      "execution_count": 0,
      "outputs": []
    },
    {
      "cell_type": "code",
      "metadata": {
        "id": "isNr-RPgkGpD",
        "colab_type": "code",
        "outputId": "8526243b-22a1-43d8-eff5-b0fc7285de0c",
        "colab": {
          "base_uri": "https://localhost:8080/",
          "height": 136
        }
      },
      "source": [
        "print(X_train.toarray()[:10])"
      ],
      "execution_count": 0,
      "outputs": [
        {
          "output_type": "stream",
          "text": [
            "[[0 0 0 ... 0 0 0]\n",
            " [0 0 0 ... 0 0 0]\n",
            " [0 0 0 ... 0 0 0]\n",
            " ...\n",
            " [0 0 0 ... 0 0 0]\n",
            " [0 0 0 ... 0 0 0]\n",
            " [0 0 0 ... 0 0 0]]\n"
          ],
          "name": "stdout"
        }
      ]
    },
    {
      "cell_type": "code",
      "metadata": {
        "id": "3TkLWrjykGpG",
        "colab_type": "code",
        "outputId": "6c738647-9e38-4415-89ac-480ca892fe39",
        "colab": {
          "base_uri": "https://localhost:8080/",
          "height": 136
        }
      },
      "source": [
        "print(X_test.toarray()[:10])"
      ],
      "execution_count": 0,
      "outputs": [
        {
          "output_type": "stream",
          "text": [
            "[[0 0 0 ... 0 0 0]\n",
            " [0 0 0 ... 0 0 0]\n",
            " [0 0 0 ... 0 0 0]\n",
            " ...\n",
            " [0 0 0 ... 0 0 0]\n",
            " [0 0 0 ... 0 0 0]\n",
            " [0 0 0 ... 0 0 0]]\n"
          ],
          "name": "stdout"
        }
      ]
    },
    {
      "cell_type": "markdown",
      "metadata": {
        "id": "0GtR9q6zJm8l",
        "colab_type": "text"
      },
      "source": [
        "## Apply Decision Tree \n",
        "\n",
        "[Sklearn Decision Tree Classifier](https://scikit-learn.org/stable/modules/generated/sklearn.tree.DecisionTreeClassifier.html)"
      ]
    },
    {
      "cell_type": "markdown",
      "metadata": {
        "id": "VEMHZrFQKDDk",
        "colab_type": "text"
      },
      "source": [
        "First, Gini impurity is used as supported criteria.\n",
        "\n",
        "Make an instance model"
      ]
    },
    {
      "cell_type": "code",
      "metadata": {
        "id": "ypWnMS-8kGpK",
        "colab_type": "code",
        "colab": {}
      },
      "source": [
        "# Train decision tree (gini)\n",
        "clf_gini = tree.DecisionTreeClassifier(criterion = \"gini\", \n",
        "            random_state = 100,max_depth=3, min_samples_leaf=5) "
      ],
      "execution_count": 0,
      "outputs": []
    },
    {
      "cell_type": "markdown",
      "metadata": {
        "id": "nusB6dW1KnGe",
        "colab_type": "text"
      },
      "source": [
        "Training the model on the data, storing the weights learned from the data"
      ]
    },
    {
      "cell_type": "code",
      "metadata": {
        "id": "PTteqNLjKjrS",
        "colab_type": "code",
        "colab": {}
      },
      "source": [
        "clf_gini = clf_gini.fit(X_train, y_train)"
      ],
      "execution_count": 0,
      "outputs": []
    },
    {
      "cell_type": "markdown",
      "metadata": {
        "id": "r3NJP3c1KuHu",
        "colab_type": "text"
      },
      "source": [
        "Predict the labels of new data"
      ]
    },
    {
      "cell_type": "code",
      "metadata": {
        "id": "LguG5-AvKkQk",
        "colab_type": "code",
        "colab": {}
      },
      "source": [
        "y_pred_gini = clf_gini.predict(X_test)"
      ],
      "execution_count": 0,
      "outputs": []
    },
    {
      "cell_type": "code",
      "metadata": {
        "id": "IjkSGy4UkGpM",
        "colab_type": "code",
        "outputId": "26d4ed98-eba3-41f7-deae-3c3b81d79443",
        "colab": {
          "base_uri": "https://localhost:8080/",
          "height": 359
        }
      },
      "source": [
        "# Show output from decision tree (gini)\n",
        "df_output_gini = pd.DataFrame({'Sentences_test':sentences_test,\n",
        "                          'Prediction_labelled':y_pred_gini,\n",
        "                        'Actual_labelled':y_test})\n",
        "df_output_gini[:10]"
      ],
      "execution_count": 0,
      "outputs": [
        {
          "output_type": "execute_result",
          "data": {
            "text/html": [
              "<div>\n",
              "<style scoped>\n",
              "    .dataframe tbody tr th:only-of-type {\n",
              "        vertical-align: middle;\n",
              "    }\n",
              "\n",
              "    .dataframe tbody tr th {\n",
              "        vertical-align: top;\n",
              "    }\n",
              "\n",
              "    .dataframe thead th {\n",
              "        text-align: right;\n",
              "    }\n",
              "</style>\n",
              "<table border=\"1\" class=\"dataframe\">\n",
              "  <thead>\n",
              "    <tr style=\"text-align: right;\">\n",
              "      <th></th>\n",
              "      <th>Sentences_test</th>\n",
              "      <th>Prediction_labelled</th>\n",
              "      <th>Actual_labelled</th>\n",
              "    </tr>\n",
              "  </thead>\n",
              "  <tbody>\n",
              "    <tr>\n",
              "      <th>0</th>\n",
              "      <td>Beautiful styling though.</td>\n",
              "      <td>0</td>\n",
              "      <td>1</td>\n",
              "    </tr>\n",
              "    <tr>\n",
              "      <th>1</th>\n",
              "      <td>jabra ear gels \"R\" the best!.</td>\n",
              "      <td>0</td>\n",
              "      <td>1</td>\n",
              "    </tr>\n",
              "    <tr>\n",
              "      <th>2</th>\n",
              "      <td>Simple, lightweight and great fit.</td>\n",
              "      <td>1</td>\n",
              "      <td>1</td>\n",
              "    </tr>\n",
              "    <tr>\n",
              "      <th>3</th>\n",
              "      <td>I ordered this product first and was unhappy w...</td>\n",
              "      <td>0</td>\n",
              "      <td>0</td>\n",
              "    </tr>\n",
              "    <tr>\n",
              "      <th>4</th>\n",
              "      <td>Everything about this product is wrong.First</td>\n",
              "      <td>0</td>\n",
              "      <td>0</td>\n",
              "    </tr>\n",
              "    <tr>\n",
              "      <th>5</th>\n",
              "      <td>Perfect for the PS3.</td>\n",
              "      <td>0</td>\n",
              "      <td>1</td>\n",
              "    </tr>\n",
              "    <tr>\n",
              "      <th>6</th>\n",
              "      <td>I like design and look of Jabra behing the ear...</td>\n",
              "      <td>0</td>\n",
              "      <td>1</td>\n",
              "    </tr>\n",
              "    <tr>\n",
              "      <th>7</th>\n",
              "      <td>Excellent product, I am very satisfied with th...</td>\n",
              "      <td>1</td>\n",
              "      <td>1</td>\n",
              "    </tr>\n",
              "    <tr>\n",
              "      <th>8</th>\n",
              "      <td>The screen does get smudged easily because it ...</td>\n",
              "      <td>0</td>\n",
              "      <td>0</td>\n",
              "    </tr>\n",
              "    <tr>\n",
              "      <th>9</th>\n",
              "      <td>Disappointing accessory from a good manufacturer.</td>\n",
              "      <td>1</td>\n",
              "      <td>0</td>\n",
              "    </tr>\n",
              "  </tbody>\n",
              "</table>\n",
              "</div>"
            ],
            "text/plain": [
              "                                      Sentences_test  ...  Actual_labelled\n",
              "0                          Beautiful styling though.  ...                1\n",
              "1                      jabra ear gels \"R\" the best!.  ...                1\n",
              "2                 Simple, lightweight and great fit.  ...                1\n",
              "3  I ordered this product first and was unhappy w...  ...                0\n",
              "4       Everything about this product is wrong.First  ...                0\n",
              "5                               Perfect for the PS3.  ...                1\n",
              "6  I like design and look of Jabra behing the ear...  ...                1\n",
              "7  Excellent product, I am very satisfied with th...  ...                1\n",
              "8  The screen does get smudged easily because it ...  ...                0\n",
              "9  Disappointing accessory from a good manufacturer.  ...                0\n",
              "\n",
              "[10 rows x 3 columns]"
            ]
          },
          "metadata": {
            "tags": []
          },
          "execution_count": 20
        }
      ]
    },
    {
      "cell_type": "markdown",
      "metadata": {
        "id": "kSbRMKd6K9nk",
        "colab_type": "text"
      },
      "source": [
        "## Measure the performance of the model"
      ]
    },
    {
      "cell_type": "markdown",
      "metadata": {
        "id": "BHSnThYSJULR",
        "colab_type": "text"
      },
      "source": [
        "Define the function for calculating accuracy which will be used later."
      ]
    },
    {
      "cell_type": "code",
      "metadata": {
        "id": "VtjrNH7okGpI",
        "colab_type": "code",
        "colab": {}
      },
      "source": [
        "# Function to calculate accuracy \n",
        "def cal_accuracy(y_test, y_pred): \n",
        "      \n",
        "    print(\"Confusion Matrix: \", \n",
        "        confusion_matrix(y_test, y_pred)) \n",
        "      \n",
        "    print (\"Accuracy : \", \n",
        "    accuracy_score(y_test,y_pred)*100) \n",
        "      \n",
        "    print(\"Report : \", \n",
        "    classification_report(y_test, y_pred)) "
      ],
      "execution_count": 0,
      "outputs": []
    },
    {
      "cell_type": "markdown",
      "metadata": {
        "id": "Tr2EpKnqLMrS",
        "colab_type": "text"
      },
      "source": [
        "### Confusion Matrix"
      ]
    },
    {
      "cell_type": "code",
      "metadata": {
        "id": "VcU3HND-kGpR",
        "colab_type": "code",
        "outputId": "c504d600-5269-45ad-e03d-a2e41370111f",
        "colab": {
          "base_uri": "https://localhost:8080/",
          "height": 296
        }
      },
      "source": [
        "cf_mat_gini = confusion_matrix(y_test, y_pred_gini)\n",
        "sns.heatmap(cf_mat_gini.T, square=True, annot=True, fmt='d', cbar=True, cmap='Blues_r')\n",
        "plt.xlabel('Actual label')\n",
        "plt.ylabel('Predicted label')"
      ],
      "execution_count": 0,
      "outputs": [
        {
          "output_type": "execute_result",
          "data": {
            "text/plain": [
              "Text(83.40000000000006, 0.5, 'Predicted label')"
            ]
          },
          "metadata": {
            "tags": []
          },
          "execution_count": 22
        },
        {
          "output_type": "display_data",
          "data": {
            "image/png": "[encoded data removed]",
            "text/plain": [
              "<Figure size 432x288 with 2 Axes>"
            ]
          },
          "metadata": {
            "tags": []
          }
        }
      ]
    },
    {
      "cell_type": "code",
      "metadata": {
        "id": "82e9ze2ZkGpT",
        "colab_type": "code",
        "outputId": "8bb18ec6-8007-433e-9f69-d8d0d21340fc",
        "colab": {
          "base_uri": "https://localhost:8080/",
          "height": 238
        }
      },
      "source": [
        "# Prediction using gini \n",
        "print(\"Results Using Gini Index:\") \n",
        "cal_accuracy(y_test, y_pred_gini)       "
      ],
      "execution_count": 0,
      "outputs": [
        {
          "output_type": "stream",
          "text": [
            "Results Using Gini Index:\n",
            "Confusion Matrix:  [[96  5]\n",
            " [67 32]]\n",
            "Accuracy :  64.0\n",
            "Report :                precision    recall  f1-score   support\n",
            "\n",
            "           0       0.59      0.95      0.73       101\n",
            "           1       0.86      0.32      0.47        99\n",
            "\n",
            "    accuracy                           0.64       200\n",
            "   macro avg       0.73      0.64      0.60       200\n",
            "weighted avg       0.73      0.64      0.60       200\n",
            "\n"
          ],
          "name": "stdout"
        }
      ]
    },
    {
      "cell_type": "markdown",
      "metadata": {
        "id": "WoUOMU1_LXch",
        "colab_type": "text"
      },
      "source": [
        "## Plot the decision tree using Graphviz"
      ]
    },
    {
      "cell_type": "code",
      "metadata": {
        "id": "YXK-o3WXkGpW",
        "colab_type": "code",
        "outputId": "9c54ec27-68da-4cf2-b0a7-ae4b76a37abc",
        "colab": {
          "base_uri": "https://localhost:8080/",
          "height": 598
        }
      },
      "source": [
        "# Plot decision tree (gini) by Graphviz\n",
        "plot_gini = tree.export_graphviz(clf_gini, out_file=None,\n",
        "                                feature_names=vectorizer.get_feature_names(),\n",
        "                                 class_names=True,\n",
        "                                filled = True)\n",
        "graph_gini = graphviz.Source(plot_gini)\n",
        "graph_gini"
      ],
      "execution_count": 0,
      "outputs": [
        {
          "output_type": "execute_result",
          "data": {
            "text/plain": [
              "<graphviz.files.Source at 0x7f342b8e3240>"
            ],
            "image/svg+xml": "<?xml version=\"1.0\" encoding=\"UTF-8\" standalone=\"no\"?>\n<!DOCTYPE svg PUBLIC \"-//W3C//DTD SVG 1.1//EN\"\n \"http://www.w3.org/Graphics/SVG/1.1/DTD/svg11.dtd\">\n<!-- Generated by graphviz version 2.40.1 (20161225.0304)\n -->\n<!-- Title: Tree Pages: 1 -->\n<svg width=\"728pt\" height=\"433pt\"\n viewBox=\"0.00 0.00 727.50 433.00\" xmlns=\"http://www.w3.org/2000/svg\" xmlns:xlink=\"http://www.w3.org/1999/xlink\">\n<g id=\"graph0\" class=\"graph\" transform=\"scale(1 1) rotate(0) translate(4 429)\">\n<title>Tree</title>\n<polygon fill=\"#ffffff\" stroke=\"transparent\" points=\"-4,4 -4,-429 723.5,-429 723.5,4 -4,4\"/>\n<!-- 0 -->\n<g id=\"node1\" class=\"node\">\n<title>0</title>\n<polygon fill=\"#feffff\" stroke=\"#000000\" points=\"545,-425 420,-425 420,-342 545,-342 545,-425\"/>\n<text text-anchor=\"middle\" x=\"482.5\" y=\"-409.8\" font-family=\"Times,serif\" font-size=\"14.00\" fill=\"#000000\">great &lt;= 0.5</text>\n<text text-anchor=\"middle\" x=\"482.5\" y=\"-394.8\" font-family=\"Times,serif\" font-size=\"14.00\" fill=\"#000000\">gini = 0.5</text>\n<text text-anchor=\"middle\" x=\"482.5\" y=\"-379.8\" font-family=\"Times,serif\" font-size=\"14.00\" fill=\"#000000\">samples = 800</text>\n<text text-anchor=\"middle\" x=\"482.5\" y=\"-364.8\" font-family=\"Times,serif\" font-size=\"14.00\" fill=\"#000000\">value = [399, 401]</text>\n<text text-anchor=\"middle\" x=\"482.5\" y=\"-349.8\" font-family=\"Times,serif\" font-size=\"14.00\" fill=\"#000000\">class = y[1]</text>\n</g>\n<!-- 1 -->\n<g id=\"node2\" class=\"node\">\n<title>1</title>\n<polygon fill=\"#fae8db\" stroke=\"#000000\" points=\"434,-306 309,-306 309,-223 434,-223 434,-306\"/>\n<text text-anchor=\"middle\" x=\"371.5\" y=\"-290.8\" font-family=\"Times,serif\" font-size=\"14.00\" fill=\"#000000\">good &lt;= 0.5</text>\n<text text-anchor=\"middle\" x=\"371.5\" y=\"-275.8\" font-family=\"Times,serif\" font-size=\"14.00\" fill=\"#000000\">gini = 0.495</text>\n<text text-anchor=\"middle\" x=\"371.5\" y=\"-260.8\" font-family=\"Times,serif\" font-size=\"14.00\" fill=\"#000000\">samples = 716</text>\n<text text-anchor=\"middle\" x=\"371.5\" y=\"-245.8\" font-family=\"Times,serif\" font-size=\"14.00\" fill=\"#000000\">value = [394, 322]</text>\n<text text-anchor=\"middle\" x=\"371.5\" y=\"-230.8\" font-family=\"Times,serif\" font-size=\"14.00\" fill=\"#000000\">class = y[0]</text>\n</g>\n<!-- 0&#45;&gt;1 -->\n<g id=\"edge1\" class=\"edge\">\n<title>0&#45;&gt;1</title>\n<path fill=\"none\" stroke=\"#000000\" d=\"M443.6776,-341.8796C435.1927,-332.7832 426.1346,-323.0722 417.4032,-313.7116\"/>\n<polygon fill=\"#000000\" stroke=\"#000000\" points=\"419.8686,-311.2233 410.4881,-306.2981 414.7497,-315.9981 419.8686,-311.2233\"/>\n<text text-anchor=\"middle\" x=\"409.6191\" y=\"-327.583\" font-family=\"Times,serif\" font-size=\"14.00\" fill=\"#000000\">True</text>\n</g>\n<!-- 8 -->\n<g id=\"node9\" class=\"node\">\n<title>8</title>\n<polygon fill=\"#46a3e7\" stroke=\"#000000\" points=\"599.5,-306 497.5,-306 497.5,-223 599.5,-223 599.5,-306\"/>\n<text text-anchor=\"middle\" x=\"548.5\" y=\"-290.8\" font-family=\"Times,serif\" font-size=\"14.00\" fill=\"#000000\">phone &lt;= 0.5</text>\n<text text-anchor=\"middle\" x=\"548.5\" y=\"-275.8\" font-family=\"Times,serif\" font-size=\"14.00\" fill=\"#000000\">gini = 0.112</text>\n<text text-anchor=\"middle\" x=\"548.5\" y=\"-260.8\" font-family=\"Times,serif\" font-size=\"14.00\" fill=\"#000000\">samples = 84</text>\n<text text-anchor=\"middle\" x=\"548.5\" y=\"-245.8\" font-family=\"Times,serif\" font-size=\"14.00\" fill=\"#000000\">value = [5, 79]</text>\n<text text-anchor=\"middle\" x=\"548.5\" y=\"-230.8\" font-family=\"Times,serif\" font-size=\"14.00\" fill=\"#000000\">class = y[1]</text>\n</g>\n<!-- 0&#45;&gt;8 -->\n<g id=\"edge8\" class=\"edge\">\n<title>0&#45;&gt;8</title>\n<path fill=\"none\" stroke=\"#000000\" d=\"M505.5836,-341.8796C510.3789,-333.2335 515.4822,-324.0322 520.4338,-315.1042\"/>\n<polygon fill=\"#000000\" stroke=\"#000000\" points=\"523.5284,-316.7407 525.3179,-306.2981 517.4069,-313.3455 523.5284,-316.7407\"/>\n<text text-anchor=\"middle\" x=\"532.2031\" y=\"-326.6313\" font-family=\"Times,serif\" font-size=\"14.00\" fill=\"#000000\">False</text>\n</g>\n<!-- 2 -->\n<g id=\"node3\" class=\"node\">\n<title>2</title>\n<polygon fill=\"#f8dcc8\" stroke=\"#000000\" points=\"257,-187 132,-187 132,-104 257,-104 257,-187\"/>\n<text text-anchor=\"middle\" x=\"194.5\" y=\"-171.8\" font-family=\"Times,serif\" font-size=\"14.00\" fill=\"#000000\">excellent &lt;= 0.5</text>\n<text text-anchor=\"middle\" x=\"194.5\" y=\"-156.8\" font-family=\"Times,serif\" font-size=\"14.00\" fill=\"#000000\">gini = 0.487</text>\n<text text-anchor=\"middle\" x=\"194.5\" y=\"-141.8\" font-family=\"Times,serif\" font-size=\"14.00\" fill=\"#000000\">samples = 664</text>\n<text text-anchor=\"middle\" x=\"194.5\" y=\"-126.8\" font-family=\"Times,serif\" font-size=\"14.00\" fill=\"#000000\">value = [385, 279]</text>\n<text text-anchor=\"middle\" x=\"194.5\" y=\"-111.8\" font-family=\"Times,serif\" font-size=\"14.00\" fill=\"#000000\">class = y[0]</text>\n</g>\n<!-- 1&#45;&gt;2 -->\n<g id=\"edge2\" class=\"edge\">\n<title>1&#45;&gt;2</title>\n<path fill=\"none\" stroke=\"#000000\" d=\"M309.594,-222.8796C295.177,-213.1868 279.722,-202.7961 264.9656,-192.8752\"/>\n<polygon fill=\"#000000\" stroke=\"#000000\" points=\"266.6227,-189.7718 256.3711,-187.0969 262.7171,-195.581 266.6227,-189.7718\"/>\n</g>\n<!-- 5 -->\n<g id=\"node6\" class=\"node\">\n<title>5</title>\n<polygon fill=\"#62b2ea\" stroke=\"#000000\" points=\"422.5,-187 320.5,-187 320.5,-104 422.5,-104 422.5,-187\"/>\n<text text-anchor=\"middle\" x=\"371.5\" y=\"-171.8\" font-family=\"Times,serif\" font-size=\"14.00\" fill=\"#000000\">quality &lt;= 0.5</text>\n<text text-anchor=\"middle\" x=\"371.5\" y=\"-156.8\" font-family=\"Times,serif\" font-size=\"14.00\" fill=\"#000000\">gini = 0.286</text>\n<text text-anchor=\"middle\" x=\"371.5\" y=\"-141.8\" font-family=\"Times,serif\" font-size=\"14.00\" fill=\"#000000\">samples = 52</text>\n<text text-anchor=\"middle\" x=\"371.5\" y=\"-126.8\" font-family=\"Times,serif\" font-size=\"14.00\" fill=\"#000000\">value = [9, 43]</text>\n<text text-anchor=\"middle\" x=\"371.5\" y=\"-111.8\" font-family=\"Times,serif\" font-size=\"14.00\" fill=\"#000000\">class = y[1]</text>\n</g>\n<!-- 1&#45;&gt;5 -->\n<g id=\"edge5\" class=\"edge\">\n<title>1&#45;&gt;5</title>\n<path fill=\"none\" stroke=\"#000000\" d=\"M371.5,-222.8796C371.5,-214.6838 371.5,-205.9891 371.5,-197.5013\"/>\n<polygon fill=\"#000000\" stroke=\"#000000\" points=\"375.0001,-197.298 371.5,-187.2981 368.0001,-197.2981 375.0001,-197.298\"/>\n</g>\n<!-- 3 -->\n<g id=\"node4\" class=\"node\">\n<title>3</title>\n<polygon fill=\"#f7d6bf\" stroke=\"#000000\" points=\"125,-68 0,-68 0,0 125,0 125,-68\"/>\n<text text-anchor=\"middle\" x=\"62.5\" y=\"-52.8\" font-family=\"Times,serif\" font-size=\"14.00\" fill=\"#000000\">gini = 0.481</text>\n<text text-anchor=\"middle\" x=\"62.5\" y=\"-37.8\" font-family=\"Times,serif\" font-size=\"14.00\" fill=\"#000000\">samples = 645</text>\n<text text-anchor=\"middle\" x=\"62.5\" y=\"-22.8\" font-family=\"Times,serif\" font-size=\"14.00\" fill=\"#000000\">value = [385, 260]</text>\n<text text-anchor=\"middle\" x=\"62.5\" y=\"-7.8\" font-family=\"Times,serif\" font-size=\"14.00\" fill=\"#000000\">class = y[0]</text>\n</g>\n<!-- 2&#45;&gt;3 -->\n<g id=\"edge3\" class=\"edge\">\n<title>2&#45;&gt;3</title>\n<path fill=\"none\" stroke=\"#000000\" d=\"M145.3481,-103.9815C134.0324,-94.4232 122.0087,-84.2668 110.7325,-74.7419\"/>\n<polygon fill=\"#000000\" stroke=\"#000000\" points=\"112.9612,-72.0429 103.0633,-68.2637 108.4441,-77.3904 112.9612,-72.0429\"/>\n</g>\n<!-- 4 -->\n<g id=\"node5\" class=\"node\">\n<title>4</title>\n<polygon fill=\"#399de5\" stroke=\"#000000\" points=\"245.5,-68 143.5,-68 143.5,0 245.5,0 245.5,-68\"/>\n<text text-anchor=\"middle\" x=\"194.5\" y=\"-52.8\" font-family=\"Times,serif\" font-size=\"14.00\" fill=\"#000000\">gini = 0.0</text>\n<text text-anchor=\"middle\" x=\"194.5\" y=\"-37.8\" font-family=\"Times,serif\" font-size=\"14.00\" fill=\"#000000\">samples = 19</text>\n<text text-anchor=\"middle\" x=\"194.5\" y=\"-22.8\" font-family=\"Times,serif\" font-size=\"14.00\" fill=\"#000000\">value = [0, 19]</text>\n<text text-anchor=\"middle\" x=\"194.5\" y=\"-7.8\" font-family=\"Times,serif\" font-size=\"14.00\" fill=\"#000000\">class = y[1]</text>\n</g>\n<!-- 2&#45;&gt;4 -->\n<g id=\"edge4\" class=\"edge\">\n<title>2&#45;&gt;4</title>\n<path fill=\"none\" stroke=\"#000000\" d=\"M194.5,-103.9815C194.5,-95.618 194.5,-86.7965 194.5,-78.3409\"/>\n<polygon fill=\"#000000\" stroke=\"#000000\" points=\"198.0001,-78.2636 194.5,-68.2637 191.0001,-78.2637 198.0001,-78.2636\"/>\n</g>\n<!-- 6 -->\n<g id=\"node7\" class=\"node\">\n<title>6</title>\n<polygon fill=\"#6cb6ec\" stroke=\"#000000\" points=\"365.5,-68 263.5,-68 263.5,0 365.5,0 365.5,-68\"/>\n<text text-anchor=\"middle\" x=\"314.5\" y=\"-52.8\" font-family=\"Times,serif\" font-size=\"14.00\" fill=\"#000000\">gini = 0.325</text>\n<text text-anchor=\"middle\" x=\"314.5\" y=\"-37.8\" font-family=\"Times,serif\" font-size=\"14.00\" fill=\"#000000\">samples = 44</text>\n<text text-anchor=\"middle\" x=\"314.5\" y=\"-22.8\" font-family=\"Times,serif\" font-size=\"14.00\" fill=\"#000000\">value = [9, 35]</text>\n<text text-anchor=\"middle\" x=\"314.5\" y=\"-7.8\" font-family=\"Times,serif\" font-size=\"14.00\" fill=\"#000000\">class = y[1]</text>\n</g>\n<!-- 5&#45;&gt;6 -->\n<g id=\"edge6\" class=\"edge\">\n<title>5&#45;&gt;6</title>\n<path fill=\"none\" stroke=\"#000000\" d=\"M350.2753,-103.9815C345.8119,-95.2504 341.0933,-86.0202 336.5987,-77.2281\"/>\n<polygon fill=\"#000000\" stroke=\"#000000\" points=\"339.6842,-75.5745 332.016,-68.2637 333.4514,-78.7608 339.6842,-75.5745\"/>\n</g>\n<!-- 7 -->\n<g id=\"node8\" class=\"node\">\n<title>7</title>\n<polygon fill=\"#399de5\" stroke=\"#000000\" points=\"479,-68 384,-68 384,0 479,0 479,-68\"/>\n<text text-anchor=\"middle\" x=\"431.5\" y=\"-52.8\" font-family=\"Times,serif\" font-size=\"14.00\" fill=\"#000000\">gini = 0.0</text>\n<text text-anchor=\"middle\" x=\"431.5\" y=\"-37.8\" font-family=\"Times,serif\" font-size=\"14.00\" fill=\"#000000\">samples = 8</text>\n<text text-anchor=\"middle\" x=\"431.5\" y=\"-22.8\" font-family=\"Times,serif\" font-size=\"14.00\" fill=\"#000000\">value = [0, 8]</text>\n<text text-anchor=\"middle\" x=\"431.5\" y=\"-7.8\" font-family=\"Times,serif\" font-size=\"14.00\" fill=\"#000000\">class = y[1]</text>\n</g>\n<!-- 5&#45;&gt;7 -->\n<g id=\"edge7\" class=\"edge\">\n<title>5&#45;&gt;7</title>\n<path fill=\"none\" stroke=\"#000000\" d=\"M393.8418,-103.9815C398.5402,-95.2504 403.5071,-86.0202 408.2383,-77.2281\"/>\n<polygon fill=\"#000000\" stroke=\"#000000\" points=\"411.4056,-78.7282 413.0621,-68.2637 405.2414,-75.4111 411.4056,-78.7282\"/>\n</g>\n<!-- 9 -->\n<g id=\"node10\" class=\"node\">\n<title>9</title>\n<polygon fill=\"#42a2e6\" stroke=\"#000000\" points=\"599.5,-187 497.5,-187 497.5,-104 599.5,-104 599.5,-187\"/>\n<text text-anchor=\"middle\" x=\"548.5\" y=\"-171.8\" font-family=\"Times,serif\" font-size=\"14.00\" fill=\"#000000\">works &lt;= 0.5</text>\n<text text-anchor=\"middle\" x=\"548.5\" y=\"-156.8\" font-family=\"Times,serif\" font-size=\"14.00\" fill=\"#000000\">gini = 0.086</text>\n<text text-anchor=\"middle\" x=\"548.5\" y=\"-141.8\" font-family=\"Times,serif\" font-size=\"14.00\" fill=\"#000000\">samples = 67</text>\n<text text-anchor=\"middle\" x=\"548.5\" y=\"-126.8\" font-family=\"Times,serif\" font-size=\"14.00\" fill=\"#000000\">value = [3, 64]</text>\n<text text-anchor=\"middle\" x=\"548.5\" y=\"-111.8\" font-family=\"Times,serif\" font-size=\"14.00\" fill=\"#000000\">class = y[1]</text>\n</g>\n<!-- 8&#45;&gt;9 -->\n<g id=\"edge9\" class=\"edge\">\n<title>8&#45;&gt;9</title>\n<path fill=\"none\" stroke=\"#000000\" d=\"M548.5,-222.8796C548.5,-214.6838 548.5,-205.9891 548.5,-197.5013\"/>\n<polygon fill=\"#000000\" stroke=\"#000000\" points=\"552.0001,-197.298 548.5,-187.2981 545.0001,-197.2981 552.0001,-197.298\"/>\n</g>\n<!-- 12 -->\n<g id=\"node13\" class=\"node\">\n<title>12</title>\n<polygon fill=\"#53aae8\" stroke=\"#000000\" points=\"719.5,-179.5 617.5,-179.5 617.5,-111.5 719.5,-111.5 719.5,-179.5\"/>\n<text text-anchor=\"middle\" x=\"668.5\" y=\"-164.3\" font-family=\"Times,serif\" font-size=\"14.00\" fill=\"#000000\">gini = 0.208</text>\n<text text-anchor=\"middle\" x=\"668.5\" y=\"-149.3\" font-family=\"Times,serif\" font-size=\"14.00\" fill=\"#000000\">samples = 17</text>\n<text text-anchor=\"middle\" x=\"668.5\" y=\"-134.3\" font-family=\"Times,serif\" font-size=\"14.00\" fill=\"#000000\">value = [2, 15]</text>\n<text text-anchor=\"middle\" x=\"668.5\" y=\"-119.3\" font-family=\"Times,serif\" font-size=\"14.00\" fill=\"#000000\">class = y[1]</text>\n</g>\n<!-- 8&#45;&gt;12 -->\n<g id=\"edge12\" class=\"edge\">\n<title>8&#45;&gt;12</title>\n<path fill=\"none\" stroke=\"#000000\" d=\"M590.4702,-222.8796C602.224,-211.2237 614.9954,-198.5587 626.7372,-186.9148\"/>\n<polygon fill=\"#000000\" stroke=\"#000000\" points=\"629.2606,-189.3416 633.8967,-179.8149 624.3316,-184.3712 629.2606,-189.3416\"/>\n</g>\n<!-- 10 -->\n<g id=\"node11\" class=\"node\">\n<title>10</title>\n<polygon fill=\"#45a3e7\" stroke=\"#000000\" points=\"599.5,-68 497.5,-68 497.5,0 599.5,0 599.5,-68\"/>\n<text text-anchor=\"middle\" x=\"548.5\" y=\"-52.8\" font-family=\"Times,serif\" font-size=\"14.00\" fill=\"#000000\">gini = 0.105</text>\n<text text-anchor=\"middle\" x=\"548.5\" y=\"-37.8\" font-family=\"Times,serif\" font-size=\"14.00\" fill=\"#000000\">samples = 54</text>\n<text text-anchor=\"middle\" x=\"548.5\" y=\"-22.8\" font-family=\"Times,serif\" font-size=\"14.00\" fill=\"#000000\">value = [3, 51]</text>\n<text text-anchor=\"middle\" x=\"548.5\" y=\"-7.8\" font-family=\"Times,serif\" font-size=\"14.00\" fill=\"#000000\">class = y[1]</text>\n</g>\n<!-- 9&#45;&gt;10 -->\n<g id=\"edge10\" class=\"edge\">\n<title>9&#45;&gt;10</title>\n<path fill=\"none\" stroke=\"#000000\" d=\"M548.5,-103.9815C548.5,-95.618 548.5,-86.7965 548.5,-78.3409\"/>\n<polygon fill=\"#000000\" stroke=\"#000000\" points=\"552.0001,-78.2636 548.5,-68.2637 545.0001,-78.2637 552.0001,-78.2636\"/>\n</g>\n<!-- 11 -->\n<g id=\"node12\" class=\"node\">\n<title>11</title>\n<polygon fill=\"#399de5\" stroke=\"#000000\" points=\"719.5,-68 617.5,-68 617.5,0 719.5,0 719.5,-68\"/>\n<text text-anchor=\"middle\" x=\"668.5\" y=\"-52.8\" font-family=\"Times,serif\" font-size=\"14.00\" fill=\"#000000\">gini = 0.0</text>\n<text text-anchor=\"middle\" x=\"668.5\" y=\"-37.8\" font-family=\"Times,serif\" font-size=\"14.00\" fill=\"#000000\">samples = 13</text>\n<text text-anchor=\"middle\" x=\"668.5\" y=\"-22.8\" font-family=\"Times,serif\" font-size=\"14.00\" fill=\"#000000\">value = [0, 13]</text>\n<text text-anchor=\"middle\" x=\"668.5\" y=\"-7.8\" font-family=\"Times,serif\" font-size=\"14.00\" fill=\"#000000\">class = y[1]</text>\n</g>\n<!-- 9&#45;&gt;11 -->\n<g id=\"edge11\" class=\"edge\">\n<title>9&#45;&gt;11</title>\n<path fill=\"none\" stroke=\"#000000\" d=\"M593.1836,-103.9815C603.2727,-94.607 613.981,-84.6572 624.0601,-75.2921\"/>\n<polygon fill=\"#000000\" stroke=\"#000000\" points=\"626.6809,-77.6346 631.6243,-68.2637 621.9161,-72.5065 626.6809,-77.6346\"/>\n</g>\n</g>\n</svg>\n"
          },
          "metadata": {
            "tags": []
          },
          "execution_count": 24
        }
      ]
    },
    {
      "cell_type": "markdown",
      "metadata": {
        "id": "6E2FRrmRLlQj",
        "colab_type": "text"
      },
      "source": [
        "Second, the information gain (entropy) is used as supported criteria.\n",
        "\n",
        "Make an instance model"
      ]
    },
    {
      "cell_type": "code",
      "metadata": {
        "id": "DJwMaXNekGpZ",
        "colab_type": "code",
        "colab": {}
      },
      "source": [
        "#Train decision tree (entropy)\n",
        "clf_entropy = tree.DecisionTreeClassifier( \n",
        "            criterion = \"entropy\", random_state = 100, \n",
        "            max_depth = 3, min_samples_leaf = 5) "
      ],
      "execution_count": 0,
      "outputs": []
    },
    {
      "cell_type": "markdown",
      "metadata": {
        "colab_type": "text",
        "id": "boKU_SYQL1e9"
      },
      "source": [
        "Training the model on the data, storing the weights learned from the data"
      ]
    },
    {
      "cell_type": "code",
      "metadata": {
        "id": "ZfV5YW1OLeX6",
        "colab_type": "code",
        "colab": {}
      },
      "source": [
        "clf_entropy = clf_entropy.fit(X_train, y_train)"
      ],
      "execution_count": 0,
      "outputs": []
    },
    {
      "cell_type": "markdown",
      "metadata": {
        "colab_type": "text",
        "id": "TYhiShsRL1e_"
      },
      "source": [
        "Predict the labels of new data"
      ]
    },
    {
      "cell_type": "code",
      "metadata": {
        "id": "C8SbAIiVLgWB",
        "colab_type": "code",
        "colab": {}
      },
      "source": [
        "y_pred_entropy = clf_entropy.predict(X_test)"
      ],
      "execution_count": 0,
      "outputs": []
    },
    {
      "cell_type": "code",
      "metadata": {
        "id": "yDqCXUFHkGpb",
        "colab_type": "code",
        "outputId": "16412bd2-1228-4e43-d2fa-fa8d2c85fd65",
        "colab": {
          "base_uri": "https://localhost:8080/",
          "height": 359
        }
      },
      "source": [
        "#Show output from decision tree (entropy)\n",
        "df_output_entropy = pd.DataFrame({'Sentences_test':sentences_test,\n",
        "                          'Prediction_labelled':y_pred_entropy,\n",
        "                        'Actual_labelled':y_test})\n",
        "df_output_entropy[:10]"
      ],
      "execution_count": 0,
      "outputs": [
        {
          "output_type": "execute_result",
          "data": {
            "text/html": [
              "<div>\n",
              "<style scoped>\n",
              "    .dataframe tbody tr th:only-of-type {\n",
              "        vertical-align: middle;\n",
              "    }\n",
              "\n",
              "    .dataframe tbody tr th {\n",
              "        vertical-align: top;\n",
              "    }\n",
              "\n",
              "    .dataframe thead th {\n",
              "        text-align: right;\n",
              "    }\n",
              "</style>\n",
              "<table border=\"1\" class=\"dataframe\">\n",
              "  <thead>\n",
              "    <tr style=\"text-align: right;\">\n",
              "      <th></th>\n",
              "      <th>Sentences_test</th>\n",
              "      <th>Prediction_labelled</th>\n",
              "      <th>Actual_labelled</th>\n",
              "    </tr>\n",
              "  </thead>\n",
              "  <tbody>\n",
              "    <tr>\n",
              "      <th>0</th>\n",
              "      <td>Beautiful styling though.</td>\n",
              "      <td>0</td>\n",
              "      <td>1</td>\n",
              "    </tr>\n",
              "    <tr>\n",
              "      <th>1</th>\n",
              "      <td>jabra ear gels \"R\" the best!.</td>\n",
              "      <td>0</td>\n",
              "      <td>1</td>\n",
              "    </tr>\n",
              "    <tr>\n",
              "      <th>2</th>\n",
              "      <td>Simple, lightweight and great fit.</td>\n",
              "      <td>1</td>\n",
              "      <td>1</td>\n",
              "    </tr>\n",
              "    <tr>\n",
              "      <th>3</th>\n",
              "      <td>I ordered this product first and was unhappy w...</td>\n",
              "      <td>0</td>\n",
              "      <td>0</td>\n",
              "    </tr>\n",
              "    <tr>\n",
              "      <th>4</th>\n",
              "      <td>Everything about this product is wrong.First</td>\n",
              "      <td>0</td>\n",
              "      <td>0</td>\n",
              "    </tr>\n",
              "    <tr>\n",
              "      <th>5</th>\n",
              "      <td>Perfect for the PS3.</td>\n",
              "      <td>0</td>\n",
              "      <td>1</td>\n",
              "    </tr>\n",
              "    <tr>\n",
              "      <th>6</th>\n",
              "      <td>I like design and look of Jabra behing the ear...</td>\n",
              "      <td>0</td>\n",
              "      <td>1</td>\n",
              "    </tr>\n",
              "    <tr>\n",
              "      <th>7</th>\n",
              "      <td>Excellent product, I am very satisfied with th...</td>\n",
              "      <td>1</td>\n",
              "      <td>1</td>\n",
              "    </tr>\n",
              "    <tr>\n",
              "      <th>8</th>\n",
              "      <td>The screen does get smudged easily because it ...</td>\n",
              "      <td>0</td>\n",
              "      <td>0</td>\n",
              "    </tr>\n",
              "    <tr>\n",
              "      <th>9</th>\n",
              "      <td>Disappointing accessory from a good manufacturer.</td>\n",
              "      <td>1</td>\n",
              "      <td>0</td>\n",
              "    </tr>\n",
              "  </tbody>\n",
              "</table>\n",
              "</div>"
            ],
            "text/plain": [
              "                                      Sentences_test  ...  Actual_labelled\n",
              "0                          Beautiful styling though.  ...                1\n",
              "1                      jabra ear gels \"R\" the best!.  ...                1\n",
              "2                 Simple, lightweight and great fit.  ...                1\n",
              "3  I ordered this product first and was unhappy w...  ...                0\n",
              "4       Everything about this product is wrong.First  ...                0\n",
              "5                               Perfect for the PS3.  ...                1\n",
              "6  I like design and look of Jabra behing the ear...  ...                1\n",
              "7  Excellent product, I am very satisfied with th...  ...                1\n",
              "8  The screen does get smudged easily because it ...  ...                0\n",
              "9  Disappointing accessory from a good manufacturer.  ...                0\n",
              "\n",
              "[10 rows x 3 columns]"
            ]
          },
          "metadata": {
            "tags": []
          },
          "execution_count": 28
        }
      ]
    },
    {
      "cell_type": "markdown",
      "metadata": {
        "colab_type": "text",
        "id": "l7tNGBbgMHT8"
      },
      "source": [
        "## Measure the performance of the model"
      ]
    },
    {
      "cell_type": "markdown",
      "metadata": {
        "id": "2Quy0UQ-MVZD",
        "colab_type": "text"
      },
      "source": [
        "### Confusion Matrix\n",
        "\n"
      ]
    },
    {
      "cell_type": "code",
      "metadata": {
        "id": "UbtC7RMjkGph",
        "colab_type": "code",
        "outputId": "787af705-dccd-451c-c313-0a8561e4f3c4",
        "colab": {
          "base_uri": "https://localhost:8080/",
          "height": 296
        }
      },
      "source": [
        "cf_mat_entropy = confusion_matrix(y_test, y_pred_entropy)\n",
        "sns.heatmap(cf_mat_entropy.T, square=True, annot=True, fmt='d', cbar=True, cmap='Blues_r')\n",
        "plt.xlabel('Actual label')\n",
        "plt.ylabel('Predicted label')"
      ],
      "execution_count": 0,
      "outputs": [
        {
          "output_type": "execute_result",
          "data": {
            "text/plain": [
              "Text(83.40000000000006, 0.5, 'Predicted label')"
            ]
          },
          "metadata": {
            "tags": []
          },
          "execution_count": 29
        },
        {
          "output_type": "display_data",
          "data": {
            "image/png": "[encoded data removed]",
            "text/plain": [
              "<Figure size 432x288 with 2 Axes>"
            ]
          },
          "metadata": {
            "tags": []
          }
        }
      ]
    },
    {
      "cell_type": "code",
      "metadata": {
        "id": "UyauBBY6kGpl",
        "colab_type": "code",
        "outputId": "1b275d0f-a52e-4367-a064-aab8d0568f8d",
        "colab": {
          "base_uri": "https://localhost:8080/",
          "height": 238
        }
      },
      "source": [
        "# Prediction using entropy \n",
        "print(\"Results Using Entropy:\")  \n",
        "cal_accuracy(y_test, y_pred_entropy) "
      ],
      "execution_count": 0,
      "outputs": [
        {
          "output_type": "stream",
          "text": [
            "Results Using Entropy:\n",
            "Confusion Matrix:  [[96  5]\n",
            " [67 32]]\n",
            "Accuracy :  64.0\n",
            "Report :                precision    recall  f1-score   support\n",
            "\n",
            "           0       0.59      0.95      0.73       101\n",
            "           1       0.86      0.32      0.47        99\n",
            "\n",
            "    accuracy                           0.64       200\n",
            "   macro avg       0.73      0.64      0.60       200\n",
            "weighted avg       0.73      0.64      0.60       200\n",
            "\n"
          ],
          "name": "stdout"
        }
      ]
    },
    {
      "cell_type": "markdown",
      "metadata": {
        "colab_type": "text",
        "id": "PXHtqCgRMtb7"
      },
      "source": [
        "## Plot the decision tree using Graphviz"
      ]
    },
    {
      "cell_type": "code",
      "metadata": {
        "id": "zjX3fvE8kGpn",
        "colab_type": "code",
        "outputId": "89c152cd-e450-480c-98b6-0248fc236366",
        "colab": {
          "base_uri": "https://localhost:8080/",
          "height": 598
        }
      },
      "source": [
        "# Plot decision tree (entropy) by Graphviz\n",
        "plot_entropy = tree.export_graphviz(clf_entropy, out_file=None,\n",
        "                                   feature_names=vectorizer.get_feature_names(),\n",
        "                                    class_names=True,\n",
        "                                   filled = True)\n",
        "graph_entropy = graphviz.Source(plot_entropy)\n",
        "graph_entropy"
      ],
      "execution_count": 0,
      "outputs": [
        {
          "output_type": "execute_result",
          "data": {
            "text/plain": [
              "<graphviz.files.Source at 0x7f342b8e4fd0>"
            ],
            "image/svg+xml": "<?xml version=\"1.0\" encoding=\"UTF-8\" standalone=\"no\"?>\n<!DOCTYPE svg PUBLIC \"-//W3C//DTD SVG 1.1//EN\"\n \"http://www.w3.org/Graphics/SVG/1.1/DTD/svg11.dtd\">\n<!-- Generated by graphviz version 2.40.1 (20161225.0304)\n -->\n<!-- Title: Tree Pages: 1 -->\n<svg width=\"744pt\" height=\"433pt\"\n viewBox=\"0.00 0.00 743.50 433.00\" xmlns=\"http://www.w3.org/2000/svg\" xmlns:xlink=\"http://www.w3.org/1999/xlink\">\n<g id=\"graph0\" class=\"graph\" transform=\"scale(1 1) rotate(0) translate(4 429)\">\n<title>Tree</title>\n<polygon fill=\"#ffffff\" stroke=\"transparent\" points=\"-4,4 -4,-429 739.5,-429 739.5,4 -4,4\"/>\n<!-- 0 -->\n<g id=\"node1\" class=\"node\">\n<title>0</title>\n<polygon fill=\"#feffff\" stroke=\"#000000\" points=\"555,-425 430,-425 430,-342 555,-342 555,-425\"/>\n<text text-anchor=\"middle\" x=\"492.5\" y=\"-409.8\" font-family=\"Times,serif\" font-size=\"14.00\" fill=\"#000000\">great &lt;= 0.5</text>\n<text text-anchor=\"middle\" x=\"492.5\" y=\"-394.8\" font-family=\"Times,serif\" font-size=\"14.00\" fill=\"#000000\">entropy = 1.0</text>\n<text text-anchor=\"middle\" x=\"492.5\" y=\"-379.8\" font-family=\"Times,serif\" font-size=\"14.00\" fill=\"#000000\">samples = 800</text>\n<text text-anchor=\"middle\" x=\"492.5\" y=\"-364.8\" font-family=\"Times,serif\" font-size=\"14.00\" fill=\"#000000\">value = [399, 401]</text>\n<text text-anchor=\"middle\" x=\"492.5\" y=\"-349.8\" font-family=\"Times,serif\" font-size=\"14.00\" fill=\"#000000\">class = y[1]</text>\n</g>\n<!-- 1 -->\n<g id=\"node2\" class=\"node\">\n<title>1</title>\n<polygon fill=\"#fae8db\" stroke=\"#000000\" points=\"440,-306 315,-306 315,-223 440,-223 440,-306\"/>\n<text text-anchor=\"middle\" x=\"377.5\" y=\"-290.8\" font-family=\"Times,serif\" font-size=\"14.00\" fill=\"#000000\">good &lt;= 0.5</text>\n<text text-anchor=\"middle\" x=\"377.5\" y=\"-275.8\" font-family=\"Times,serif\" font-size=\"14.00\" fill=\"#000000\">entropy = 0.993</text>\n<text text-anchor=\"middle\" x=\"377.5\" y=\"-260.8\" font-family=\"Times,serif\" font-size=\"14.00\" fill=\"#000000\">samples = 716</text>\n<text text-anchor=\"middle\" x=\"377.5\" y=\"-245.8\" font-family=\"Times,serif\" font-size=\"14.00\" fill=\"#000000\">value = [394, 322]</text>\n<text text-anchor=\"middle\" x=\"377.5\" y=\"-230.8\" font-family=\"Times,serif\" font-size=\"14.00\" fill=\"#000000\">class = y[0]</text>\n</g>\n<!-- 0&#45;&gt;1 -->\n<g id=\"edge1\" class=\"edge\">\n<title>0&#45;&gt;1</title>\n<path fill=\"none\" stroke=\"#000000\" d=\"M452.2786,-341.8796C443.488,-332.7832 434.1034,-323.0722 425.0574,-313.7116\"/>\n<polygon fill=\"#000000\" stroke=\"#000000\" points=\"427.3591,-311.0568 417.8931,-306.2981 422.3255,-315.9212 427.3591,-311.0568\"/>\n<text text-anchor=\"middle\" x=\"417.4658\" y=\"-327.5944\" font-family=\"Times,serif\" font-size=\"14.00\" fill=\"#000000\">True</text>\n</g>\n<!-- 8 -->\n<g id=\"node9\" class=\"node\">\n<title>8</title>\n<polygon fill=\"#46a3e7\" stroke=\"#000000\" points=\"615.5,-306 505.5,-306 505.5,-223 615.5,-223 615.5,-306\"/>\n<text text-anchor=\"middle\" x=\"560.5\" y=\"-290.8\" font-family=\"Times,serif\" font-size=\"14.00\" fill=\"#000000\">works &lt;= 0.5</text>\n<text text-anchor=\"middle\" x=\"560.5\" y=\"-275.8\" font-family=\"Times,serif\" font-size=\"14.00\" fill=\"#000000\">entropy = 0.326</text>\n<text text-anchor=\"middle\" x=\"560.5\" y=\"-260.8\" font-family=\"Times,serif\" font-size=\"14.00\" fill=\"#000000\">samples = 84</text>\n<text text-anchor=\"middle\" x=\"560.5\" y=\"-245.8\" font-family=\"Times,serif\" font-size=\"14.00\" fill=\"#000000\">value = [5, 79]</text>\n<text text-anchor=\"middle\" x=\"560.5\" y=\"-230.8\" font-family=\"Times,serif\" font-size=\"14.00\" fill=\"#000000\">class = y[1]</text>\n</g>\n<!-- 0&#45;&gt;8 -->\n<g id=\"edge8\" class=\"edge\">\n<title>0&#45;&gt;8</title>\n<path fill=\"none\" stroke=\"#000000\" d=\"M516.2831,-341.8796C521.2237,-333.2335 526.4816,-324.0322 531.5833,-315.1042\"/>\n<polygon fill=\"#000000\" stroke=\"#000000\" points=\"534.6928,-316.717 536.6154,-306.2981 528.6151,-313.244 534.6928,-316.717\"/>\n<text text-anchor=\"middle\" x=\"543.1933\" y=\"-326.7172\" font-family=\"Times,serif\" font-size=\"14.00\" fill=\"#000000\">False</text>\n</g>\n<!-- 2 -->\n<g id=\"node3\" class=\"node\">\n<title>2</title>\n<polygon fill=\"#f8dcc8\" stroke=\"#000000\" points=\"257,-187 132,-187 132,-104 257,-104 257,-187\"/>\n<text text-anchor=\"middle\" x=\"194.5\" y=\"-171.8\" font-family=\"Times,serif\" font-size=\"14.00\" fill=\"#000000\">excellent &lt;= 0.5</text>\n<text text-anchor=\"middle\" x=\"194.5\" y=\"-156.8\" font-family=\"Times,serif\" font-size=\"14.00\" fill=\"#000000\">entropy = 0.982</text>\n<text text-anchor=\"middle\" x=\"194.5\" y=\"-141.8\" font-family=\"Times,serif\" font-size=\"14.00\" fill=\"#000000\">samples = 664</text>\n<text text-anchor=\"middle\" x=\"194.5\" y=\"-126.8\" font-family=\"Times,serif\" font-size=\"14.00\" fill=\"#000000\">value = [385, 279]</text>\n<text text-anchor=\"middle\" x=\"194.5\" y=\"-111.8\" font-family=\"Times,serif\" font-size=\"14.00\" fill=\"#000000\">class = y[0]</text>\n</g>\n<!-- 1&#45;&gt;2 -->\n<g id=\"edge2\" class=\"edge\">\n<title>1&#45;&gt;2</title>\n<path fill=\"none\" stroke=\"#000000\" d=\"M314.7778,-223.7134C298.9183,-213.4005 281.7747,-202.2524 265.5372,-191.6936\"/>\n<polygon fill=\"#000000\" stroke=\"#000000\" points=\"267.4317,-188.7506 257.1402,-186.2333 263.6156,-194.619 267.4317,-188.7506\"/>\n</g>\n<!-- 5 -->\n<g id=\"node6\" class=\"node\">\n<title>5</title>\n<polygon fill=\"#62b2ea\" stroke=\"#000000\" points=\"432.5,-187 322.5,-187 322.5,-104 432.5,-104 432.5,-187\"/>\n<text text-anchor=\"middle\" x=\"377.5\" y=\"-171.8\" font-family=\"Times,serif\" font-size=\"14.00\" fill=\"#000000\">quality &lt;= 0.5</text>\n<text text-anchor=\"middle\" x=\"377.5\" y=\"-156.8\" font-family=\"Times,serif\" font-size=\"14.00\" fill=\"#000000\">entropy = 0.665</text>\n<text text-anchor=\"middle\" x=\"377.5\" y=\"-141.8\" font-family=\"Times,serif\" font-size=\"14.00\" fill=\"#000000\">samples = 52</text>\n<text text-anchor=\"middle\" x=\"377.5\" y=\"-126.8\" font-family=\"Times,serif\" font-size=\"14.00\" fill=\"#000000\">value = [9, 43]</text>\n<text text-anchor=\"middle\" x=\"377.5\" y=\"-111.8\" font-family=\"Times,serif\" font-size=\"14.00\" fill=\"#000000\">class = y[1]</text>\n</g>\n<!-- 1&#45;&gt;5 -->\n<g id=\"edge5\" class=\"edge\">\n<title>1&#45;&gt;5</title>\n<path fill=\"none\" stroke=\"#000000\" d=\"M377.5,-222.8796C377.5,-214.6838 377.5,-205.9891 377.5,-197.5013\"/>\n<polygon fill=\"#000000\" stroke=\"#000000\" points=\"381.0001,-197.298 377.5,-187.2981 374.0001,-197.2981 381.0001,-197.298\"/>\n</g>\n<!-- 3 -->\n<g id=\"node4\" class=\"node\">\n<title>3</title>\n<polygon fill=\"#f7d6bf\" stroke=\"#000000\" points=\"125,-68 0,-68 0,0 125,0 125,-68\"/>\n<text text-anchor=\"middle\" x=\"62.5\" y=\"-52.8\" font-family=\"Times,serif\" font-size=\"14.00\" fill=\"#000000\">entropy = 0.973</text>\n<text text-anchor=\"middle\" x=\"62.5\" y=\"-37.8\" font-family=\"Times,serif\" font-size=\"14.00\" fill=\"#000000\">samples = 645</text>\n<text text-anchor=\"middle\" x=\"62.5\" y=\"-22.8\" font-family=\"Times,serif\" font-size=\"14.00\" fill=\"#000000\">value = [385, 260]</text>\n<text text-anchor=\"middle\" x=\"62.5\" y=\"-7.8\" font-family=\"Times,serif\" font-size=\"14.00\" fill=\"#000000\">class = y[0]</text>\n</g>\n<!-- 2&#45;&gt;3 -->\n<g id=\"edge3\" class=\"edge\">\n<title>2&#45;&gt;3</title>\n<path fill=\"none\" stroke=\"#000000\" d=\"M145.3481,-103.9815C134.0324,-94.4232 122.0087,-84.2668 110.7325,-74.7419\"/>\n<polygon fill=\"#000000\" stroke=\"#000000\" points=\"112.9612,-72.0429 103.0633,-68.2637 108.4441,-77.3904 112.9612,-72.0429\"/>\n</g>\n<!-- 4 -->\n<g id=\"node5\" class=\"node\">\n<title>4</title>\n<polygon fill=\"#399de5\" stroke=\"#000000\" points=\"245.5,-68 143.5,-68 143.5,0 245.5,0 245.5,-68\"/>\n<text text-anchor=\"middle\" x=\"194.5\" y=\"-52.8\" font-family=\"Times,serif\" font-size=\"14.00\" fill=\"#000000\">entropy = 0.0</text>\n<text text-anchor=\"middle\" x=\"194.5\" y=\"-37.8\" font-family=\"Times,serif\" font-size=\"14.00\" fill=\"#000000\">samples = 19</text>\n<text text-anchor=\"middle\" x=\"194.5\" y=\"-22.8\" font-family=\"Times,serif\" font-size=\"14.00\" fill=\"#000000\">value = [0, 19]</text>\n<text text-anchor=\"middle\" x=\"194.5\" y=\"-7.8\" font-family=\"Times,serif\" font-size=\"14.00\" fill=\"#000000\">class = y[1]</text>\n</g>\n<!-- 2&#45;&gt;4 -->\n<g id=\"edge4\" class=\"edge\">\n<title>2&#45;&gt;4</title>\n<path fill=\"none\" stroke=\"#000000\" d=\"M194.5,-103.9815C194.5,-95.618 194.5,-86.7965 194.5,-78.3409\"/>\n<polygon fill=\"#000000\" stroke=\"#000000\" points=\"198.0001,-78.2636 194.5,-68.2637 191.0001,-78.2637 198.0001,-78.2636\"/>\n</g>\n<!-- 6 -->\n<g id=\"node7\" class=\"node\">\n<title>6</title>\n<polygon fill=\"#6cb6ec\" stroke=\"#000000\" points=\"373.5,-68 263.5,-68 263.5,0 373.5,0 373.5,-68\"/>\n<text text-anchor=\"middle\" x=\"318.5\" y=\"-52.8\" font-family=\"Times,serif\" font-size=\"14.00\" fill=\"#000000\">entropy = 0.731</text>\n<text text-anchor=\"middle\" x=\"318.5\" y=\"-37.8\" font-family=\"Times,serif\" font-size=\"14.00\" fill=\"#000000\">samples = 44</text>\n<text text-anchor=\"middle\" x=\"318.5\" y=\"-22.8\" font-family=\"Times,serif\" font-size=\"14.00\" fill=\"#000000\">value = [9, 35]</text>\n<text text-anchor=\"middle\" x=\"318.5\" y=\"-7.8\" font-family=\"Times,serif\" font-size=\"14.00\" fill=\"#000000\">class = y[1]</text>\n</g>\n<!-- 5&#45;&gt;6 -->\n<g id=\"edge6\" class=\"edge\">\n<title>5&#45;&gt;6</title>\n<path fill=\"none\" stroke=\"#000000\" d=\"M355.5306,-103.9815C350.9105,-95.2504 346.0264,-86.0202 341.374,-77.2281\"/>\n<polygon fill=\"#000000\" stroke=\"#000000\" points=\"344.4013,-75.4655 336.6306,-68.2637 338.2141,-78.7395 344.4013,-75.4655\"/>\n</g>\n<!-- 7 -->\n<g id=\"node8\" class=\"node\">\n<title>7</title>\n<polygon fill=\"#399de5\" stroke=\"#000000\" points=\"487,-68 392,-68 392,0 487,0 487,-68\"/>\n<text text-anchor=\"middle\" x=\"439.5\" y=\"-52.8\" font-family=\"Times,serif\" font-size=\"14.00\" fill=\"#000000\">entropy = 0.0</text>\n<text text-anchor=\"middle\" x=\"439.5\" y=\"-37.8\" font-family=\"Times,serif\" font-size=\"14.00\" fill=\"#000000\">samples = 8</text>\n<text text-anchor=\"middle\" x=\"439.5\" y=\"-22.8\" font-family=\"Times,serif\" font-size=\"14.00\" fill=\"#000000\">value = [0, 8]</text>\n<text text-anchor=\"middle\" x=\"439.5\" y=\"-7.8\" font-family=\"Times,serif\" font-size=\"14.00\" fill=\"#000000\">class = y[1]</text>\n</g>\n<!-- 5&#45;&gt;7 -->\n<g id=\"edge7\" class=\"edge\">\n<title>5&#45;&gt;7</title>\n<path fill=\"none\" stroke=\"#000000\" d=\"M400.5865,-103.9815C405.4415,-95.2504 410.574,-86.0202 415.4629,-77.2281\"/>\n<polygon fill=\"#000000\" stroke=\"#000000\" points=\"418.6467,-78.7043 420.4476,-68.2637 412.5288,-75.3025 418.6467,-78.7043\"/>\n</g>\n<!-- 9 -->\n<g id=\"node10\" class=\"node\">\n<title>9</title>\n<polygon fill=\"#49a5e7\" stroke=\"#000000\" points=\"615.5,-187 505.5,-187 505.5,-104 615.5,-104 615.5,-187\"/>\n<text text-anchor=\"middle\" x=\"560.5\" y=\"-171.8\" font-family=\"Times,serif\" font-size=\"14.00\" fill=\"#000000\">price &lt;= 0.5</text>\n<text text-anchor=\"middle\" x=\"560.5\" y=\"-156.8\" font-family=\"Times,serif\" font-size=\"14.00\" fill=\"#000000\">entropy = 0.379</text>\n<text text-anchor=\"middle\" x=\"560.5\" y=\"-141.8\" font-family=\"Times,serif\" font-size=\"14.00\" fill=\"#000000\">samples = 68</text>\n<text text-anchor=\"middle\" x=\"560.5\" y=\"-126.8\" font-family=\"Times,serif\" font-size=\"14.00\" fill=\"#000000\">value = [5, 63]</text>\n<text text-anchor=\"middle\" x=\"560.5\" y=\"-111.8\" font-family=\"Times,serif\" font-size=\"14.00\" fill=\"#000000\">class = y[1]</text>\n</g>\n<!-- 8&#45;&gt;9 -->\n<g id=\"edge9\" class=\"edge\">\n<title>8&#45;&gt;9</title>\n<path fill=\"none\" stroke=\"#000000\" d=\"M560.5,-222.8796C560.5,-214.6838 560.5,-205.9891 560.5,-197.5013\"/>\n<polygon fill=\"#000000\" stroke=\"#000000\" points=\"564.0001,-197.298 560.5,-187.2981 557.0001,-197.2981 564.0001,-197.298\"/>\n</g>\n<!-- 12 -->\n<g id=\"node13\" class=\"node\">\n<title>12</title>\n<polygon fill=\"#399de5\" stroke=\"#000000\" points=\"735.5,-179.5 633.5,-179.5 633.5,-111.5 735.5,-111.5 735.5,-179.5\"/>\n<text text-anchor=\"middle\" x=\"684.5\" y=\"-164.3\" font-family=\"Times,serif\" font-size=\"14.00\" fill=\"#000000\">entropy = 0.0</text>\n<text text-anchor=\"middle\" x=\"684.5\" y=\"-149.3\" font-family=\"Times,serif\" font-size=\"14.00\" fill=\"#000000\">samples = 16</text>\n<text text-anchor=\"middle\" x=\"684.5\" y=\"-134.3\" font-family=\"Times,serif\" font-size=\"14.00\" fill=\"#000000\">value = [0, 16]</text>\n<text text-anchor=\"middle\" x=\"684.5\" y=\"-119.3\" font-family=\"Times,serif\" font-size=\"14.00\" fill=\"#000000\">class = y[1]</text>\n</g>\n<!-- 8&#45;&gt;12 -->\n<g id=\"edge12\" class=\"edge\">\n<title>8&#45;&gt;12</title>\n<path fill=\"none\" stroke=\"#000000\" d=\"M603.8692,-222.8796C616.0148,-211.2237 629.2119,-198.5587 641.3451,-186.9148\"/>\n<polygon fill=\"#000000\" stroke=\"#000000\" points=\"643.9516,-189.2643 648.7433,-179.8149 639.1047,-184.2138 643.9516,-189.2643\"/>\n</g>\n<!-- 10 -->\n<g id=\"node11\" class=\"node\">\n<title>10</title>\n<polygon fill=\"#4ba6e7\" stroke=\"#000000\" points=\"615.5,-68 505.5,-68 505.5,0 615.5,0 615.5,-68\"/>\n<text text-anchor=\"middle\" x=\"560.5\" y=\"-52.8\" font-family=\"Times,serif\" font-size=\"14.00\" fill=\"#000000\">entropy = 0.414</text>\n<text text-anchor=\"middle\" x=\"560.5\" y=\"-37.8\" font-family=\"Times,serif\" font-size=\"14.00\" fill=\"#000000\">samples = 60</text>\n<text text-anchor=\"middle\" x=\"560.5\" y=\"-22.8\" font-family=\"Times,serif\" font-size=\"14.00\" fill=\"#000000\">value = [5, 55]</text>\n<text text-anchor=\"middle\" x=\"560.5\" y=\"-7.8\" font-family=\"Times,serif\" font-size=\"14.00\" fill=\"#000000\">class = y[1]</text>\n</g>\n<!-- 9&#45;&gt;10 -->\n<g id=\"edge10\" class=\"edge\">\n<title>9&#45;&gt;10</title>\n<path fill=\"none\" stroke=\"#000000\" d=\"M560.5,-103.9815C560.5,-95.618 560.5,-86.7965 560.5,-78.3409\"/>\n<polygon fill=\"#000000\" stroke=\"#000000\" points=\"564.0001,-78.2636 560.5,-68.2637 557.0001,-78.2637 564.0001,-78.2636\"/>\n</g>\n<!-- 11 -->\n<g id=\"node12\" class=\"node\">\n<title>11</title>\n<polygon fill=\"#399de5\" stroke=\"#000000\" points=\"729,-68 634,-68 634,0 729,0 729,-68\"/>\n<text text-anchor=\"middle\" x=\"681.5\" y=\"-52.8\" font-family=\"Times,serif\" font-size=\"14.00\" fill=\"#000000\">entropy = 0.0</text>\n<text text-anchor=\"middle\" x=\"681.5\" y=\"-37.8\" font-family=\"Times,serif\" font-size=\"14.00\" fill=\"#000000\">samples = 8</text>\n<text text-anchor=\"middle\" x=\"681.5\" y=\"-22.8\" font-family=\"Times,serif\" font-size=\"14.00\" fill=\"#000000\">value = [0, 8]</text>\n<text text-anchor=\"middle\" x=\"681.5\" y=\"-7.8\" font-family=\"Times,serif\" font-size=\"14.00\" fill=\"#000000\">class = y[1]</text>\n</g>\n<!-- 9&#45;&gt;11 -->\n<g id=\"edge11\" class=\"edge\">\n<title>9&#45;&gt;11</title>\n<path fill=\"none\" stroke=\"#000000\" d=\"M605.5559,-103.9815C615.7291,-94.607 626.5267,-84.6572 636.6898,-75.2921\"/>\n<polygon fill=\"#000000\" stroke=\"#000000\" points=\"639.3349,-77.6141 644.317,-68.2637 634.5913,-72.4663 639.3349,-77.6141\"/>\n</g>\n</g>\n</svg>\n"
          },
          "metadata": {
            "tags": []
          },
          "execution_count": 31
        }
      ]
    }
  ]
}