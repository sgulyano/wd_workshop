{
 "cells": [
  {
   "cell_type": "markdown",
   "metadata": {},
   "source": [
    "<a name=\"top\"></a>\n",
    "# Python Workshop 2\n",
    "To help you deal with complex codes, Python allows you to bundle codes together to make your code more organized and improve code reusability. There are three main levels of doing this:\n",
    "1. [Function](#function)\n",
    "2. [Class](#class)\n",
    "3. [Module](#module)\n",
    "\n",
    "At the end, we will look at [NumPy](#numpy), which is one of the most popular package for data analysts these days.\n",
    "\n",
    "<a name=\"function\"></a>\n",
    "## 1. Function\n",
    "A function is a section of program that performs a specific task. To use functions, **define** then **call** them. Python uses indentation to indicate the section."
   ]
  },
  {
   "cell_type": "code",
   "execution_count": 1,
   "metadata": {},
   "outputs": [
    {
     "name": "stdout",
     "output_type": "stream",
     "text": [
      "Speak\n",
      "hi\n",
      "Yo!\n"
     ]
    }
   ],
   "source": [
    "def speak():\n",
    "    print(\"Speak\")\n",
    "    print(\"hi\")\n",
    "    print(\"Yo!\")\n",
    "\n",
    "speak()"
   ]
  },
  {
   "cell_type": "markdown",
   "metadata": {},
   "source": [
    "### Parameters and Arguments\n",
    "You can pass data to a function but you must specify them in the function definition. These input(s) are called **parameters**. When we call a function that requires parameter(s), we must provide input values/variables, called **arguments**."
   ]
  },
  {
   "cell_type": "code",
   "execution_count": 2,
   "metadata": {},
   "outputs": [
    {
     "name": "stdin",
     "output_type": "stream",
     "text": [
      "Name  Yoyo\n"
     ]
    },
    {
     "name": "stdout",
     "output_type": "stream",
     "text": [
      "Hello! Yoyo\n"
     ]
    }
   ],
   "source": [
    "def speak(name):\n",
    "    print(\"Hello!\", name)\n",
    "\n",
    "name = input(\"Name \")\n",
    "speak(name)"
   ]
  },
  {
   "cell_type": "code",
   "execution_count": 3,
   "metadata": {},
   "outputs": [
    {
     "name": "stdout",
     "output_type": "stream",
     "text": [
      "Hello! John Doe\n"
     ]
    }
   ],
   "source": [
    "def speak(name = 'John Doe'):\n",
    "    print(\"Hello!\", name)\n",
    "\n",
    "speak()"
   ]
  },
  {
   "cell_type": "markdown",
   "metadata": {},
   "source": [
    "### Return Values\n",
    "Functions can also send back results using `return` statement."
   ]
  },
  {
   "cell_type": "code",
   "execution_count": 4,
   "metadata": {},
   "outputs": [
    {
     "name": "stdin",
     "output_type": "stream",
     "text": [
      "input a number to sum :  20\n",
      "input b number to sum :  30\n"
     ]
    },
    {
     "name": "stdout",
     "output_type": "stream",
     "text": [
      "summation is :  50\n"
     ]
    }
   ],
   "source": [
    "def sum(a,b):\n",
    "    summation = a+b\n",
    "    return summation\n",
    "\n",
    "a = int(input(\"input a number to sum : \"))\n",
    "b = int(input(\"input b number to sum : \"))\n",
    "\n",
    "summation = sum(a,b)\n",
    "print(\"summation is : \",summation)"
   ]
  },
  {
   "cell_type": "markdown",
   "metadata": {},
   "source": [
    "[[top](#top)]"
   ]
  },
  {
   "cell_type": "markdown",
   "metadata": {},
   "source": [
    "<a name=\"class\"></a>\n",
    "## 2. Class\n",
    "Class allows you to bundle both variables and functions into a self-contained reusable unit. It helps us tackle problems at the abstract level by a) treating any component relevant to the problem as an object; and b) representing any relationship through a function.\n",
    "\n",
    "First we must define a **class**, which is like a blueprint of a thing using `class` keyword: "
   ]
  },
  {
   "cell_type": "code",
   "execution_count": 5,
   "metadata": {},
   "outputs": [],
   "source": [
    "class Employee:\n",
    "    def __init__(self, name, dept, salary=1000):\n",
    "        self.name = name\n",
    "        self.dept = dept\n",
    "        self.salary = salary\n",
    "    \n",
    "    def show_record(self):\n",
    "        print('Name: {}\\nDepartment: {}\\nSalary: {}$'\n",
    "                .format(self.name, self.dept, self.salary))"
   ]
  },
  {
   "cell_type": "markdown",
   "metadata": {},
   "source": [
    "Then, we must create an instance of a class, called **object**."
   ]
  },
  {
   "cell_type": "code",
   "execution_count": 6,
   "metadata": {},
   "outputs": [
    {
     "name": "stdout",
     "output_type": "stream",
     "text": [
      "Name: Sarun Gulyanon\n",
      "Department: Sales\n",
      "Salary: 1000$\n"
     ]
    }
   ],
   "source": [
    "mrA = Employee('Sarun Gulyanon', 'Sales')\n",
    "mrA.show_record()"
   ]
  },
  {
   "cell_type": "markdown",
   "metadata": {},
   "source": [
    "`__init__` function is a constructor. It defines how to create an object. `self` variable represents the instance of the object itself. We can access variables or functions belonging to a class (called \"attributes\") using this expression: `obj.name`."
   ]
  },
  {
   "cell_type": "markdown",
   "metadata": {},
   "source": [
    "### Class and Instance Variables\n",
    "\n",
    "Instance variables are for data unique to each instance and class variables are for attributes and methods shared by all instances of the class:"
   ]
  },
  {
   "cell_type": "code",
   "execution_count": 28,
   "metadata": {},
   "outputs": [],
   "source": [
    "class Dog:\n",
    "    kind = 'canine'         # class variable shared by all instances\n",
    "\n",
    "    def __init__(self, name):\n",
    "        self.name = name    # instance variable unique to each instance\n",
    "\n",
    "d = Dog('Fido')\n",
    "e = Dog('Buddy')"
   ]
  },
  {
   "cell_type": "code",
   "execution_count": 29,
   "metadata": {},
   "outputs": [
    {
     "name": "stdout",
     "output_type": "stream",
     "text": [
      "canine\n",
      "canine\n"
     ]
    }
   ],
   "source": [
    "print(d.kind)\n",
    "print(e.kind)"
   ]
  },
  {
   "cell_type": "code",
   "execution_count": 27,
   "metadata": {},
   "outputs": [
    {
     "name": "stdout",
     "output_type": "stream",
     "text": [
      "Fido\n",
      "Buddy\n"
     ]
    }
   ],
   "source": [
    "print(d.name)\n",
    "print(e.name)"
   ]
  },
  {
   "cell_type": "markdown",
   "metadata": {},
   "source": [
    "### Inheritance\n",
    "\n",
    "Inheritance allows us to define a class that inherits (have) all the methods and properties from another class."
   ]
  },
  {
   "cell_type": "code",
   "execution_count": 35,
   "metadata": {},
   "outputs": [
    {
     "name": "stdout",
     "output_type": "stream",
     "text": [
      "Name: Mike\tDepartment: Production\tSalary: 1000$\n"
     ]
    }
   ],
   "source": [
    "class Specialist(Employee):\n",
    "    def show_record(self):\n",
    "        print('Name: {}\\tDepartment: {}\\tSalary: {}$'\n",
    "                .format(self.name, self.dept, self.salary))\n",
    "\n",
    "x = Specialist(\"Mike\", \"Production\")\n",
    "x.show_record()"
   ]
  },
  {
   "cell_type": "code",
   "execution_count": 31,
   "metadata": {},
   "outputs": [
    {
     "data": {
      "text/plain": [
       "__main__.Student"
      ]
     },
     "execution_count": 31,
     "metadata": {},
     "output_type": "execute_result"
    }
   ],
   "source": [
    "type(x)"
   ]
  },
  {
   "cell_type": "markdown",
   "metadata": {},
   "source": [
    "### Private Variables\n",
    "\n",
    "Private instance variables that cannot be accessed except from inside an object **don’t exist** in Python. However, there is a convention that is followed by most Python code: \n",
    "* A name prefixed with an underscore (e.g. `_spam`) should be treated as a non-public part of the API (whether it is a function, a method or a data member).\n",
    "* A name with at least two leading underscores, and at most one trailing underscore (e.g. `__spam`) should be treated as the class-private members. It is textually replaced with `_classname__spam`, where classname is the current class name with leading underscore(s) stripped. This is called `name mangling` and it is done without regard to the syntactic position of the identifier, as long as it occurs within the definition of a class."
   ]
  },
  {
   "cell_type": "code",
   "execution_count": 41,
   "metadata": {},
   "outputs": [
    {
     "name": "stdout",
     "output_type": "stream",
     "text": [
      "123\n"
     ]
    }
   ],
   "source": [
    "class A:\n",
    "    def __init__(self):\n",
    "        self.__var = 123\n",
    "        self._msg = 'book'\n",
    "\n",
    "    def printVar(self):\n",
    "        print(self.__var)\n",
    "a = A()\n",
    "a.printVar()"
   ]
  },
  {
   "cell_type": "code",
   "execution_count": 42,
   "metadata": {},
   "outputs": [
    {
     "name": "stdout",
     "output_type": "stream",
     "text": [
      "book\n"
     ]
    }
   ],
   "source": [
    "print(a._msg)"
   ]
  },
  {
   "cell_type": "markdown",
   "metadata": {},
   "source": [
    "[[top](#top)]"
   ]
  },
  {
   "cell_type": "markdown",
   "metadata": {},
   "source": [
    "<a name=\"module\"></a>\n",
    "## 3. Module\n",
    "A module is like a code library. Functions and Classes bundles codes within the same file but Modules separate codes into different files for better organization and reusability. There are 3 types of modules:\n",
    "1. [Built-in module](#builtin)\n",
    "2. [Customized module](#customized)\n",
    "3. [External module](#external)"
   ]
  },
  {
   "cell_type": "markdown",
   "metadata": {},
   "source": [
    "<a name=\"builtin\"></a>\n",
    "### 3.1. Built-in Module\n",
    "Built-in module or Python standard library is very extensive, offering a wide range of facilities, and it makes Python powerful ([full list of Python standard library](https://docs.python.org/3/library/)).\n",
    "\n",
    "To call functions in modules, first we must `import` the module. Then, call it using both module and function names."
   ]
  },
  {
   "cell_type": "code",
   "execution_count": 7,
   "metadata": {},
   "outputs": [
    {
     "name": "stdout",
     "output_type": "stream",
     "text": [
      "/home/sarun/Desktop/a.txt\n"
     ]
    }
   ],
   "source": [
    "import os\n",
    "#folder = 'C:\\\\users\\sarun\\Desktop'  # for linux\n",
    "folder = '/home/sarun/Desktop'  # for linux\n",
    "file = 'a.txt'\n",
    "print(os.path.join(folder, file))"
   ]
  },
  {
   "cell_type": "markdown",
   "metadata": {},
   "source": [
    "You can import only specific things using `from` statement."
   ]
  },
  {
   "cell_type": "code",
   "execution_count": 8,
   "metadata": {},
   "outputs": [
    {
     "name": "stdout",
     "output_type": "stream",
     "text": [
      "Current Directory is /home/yoyo/Desktop/wd/day1\n"
     ]
    }
   ],
   "source": [
    "from os import getcwd\n",
    "print('Current Directory is {}'.format(getcwd()))"
   ]
  },
  {
   "cell_type": "markdown",
   "metadata": {},
   "source": [
    "<a name=\"customized\"></a>\n",
    "### 3.2. Customized Module\n",
    "You can build your own module as well. Just save your functions and/or classes (or even variables) in a module (a file with `.py` extension containing function and/or class definitions). Then, import it using the filename (make sure you put your codes/scripts and your module in the same folder)."
   ]
  },
  {
   "cell_type": "code",
   "execution_count": 9,
   "metadata": {},
   "outputs": [
    {
     "name": "stdout",
     "output_type": "stream",
     "text": [
      "6\n"
     ]
    }
   ],
   "source": [
    "import mymodule\n",
    "print(mymodule.mul(2,3))"
   ]
  },
  {
   "cell_type": "markdown",
   "metadata": {},
   "source": [
    "### Naming a Module\n",
    "You can create an alias when you import a module for easy access by using the `as` keyword."
   ]
  },
  {
   "cell_type": "code",
   "execution_count": 10,
   "metadata": {},
   "outputs": [
    {
     "name": "stdout",
     "output_type": "stream",
     "text": [
      "Hi! Yoyo\n",
      "12\n"
     ]
    }
   ],
   "source": [
    "import mycode.myfile as mm\n",
    "from mymodule import mul as mu\n",
    "mm.greeting('Yoyo')\n",
    "print(mu(3,4))"
   ]
  },
  {
   "cell_type": "markdown",
   "metadata": {},
   "source": [
    "You can bundle a collection of modules into a \"package\" by putting modules in a folder. In Python 2 or < 3.3, we must create an empty file called `__init__.py` in every folder you import from. Python 3.3+ has [Implicit Namespace Packages](https://www.python.org/dev/peps/pep-0420/) that allow it to create a packages without an `__init__.py` file.\n",
    "\n"
   ]
  },
  {
   "cell_type": "markdown",
   "metadata": {},
   "source": [
    "<a name=\"external\"></a>\n",
    "### 3.3. External Module\n",
    "These modules are created by the third party and you are allowed to use them as long as you comply with their license. Some of them can be installed easily through the package manager like [pip](https://packaging.python.org/tutorials/installing-packages/) or [conda](https://docs.conda.io/projects/conda/en/latest/user-guide/tasks/manage-pkgs.html). Here we will look at two important modules for data analytics:\n",
    "\n",
    "1. [NumPy](http://www.numpy.org/) is the fundamental package for scientific computing \n",
    "2. [Pandas](https://pandas.pydata.org/) provides high-performance, easy-to-use data structures and data analysis tools."
   ]
  },
  {
   "cell_type": "markdown",
   "metadata": {},
   "source": [
    "[[top](#top)]"
   ]
  }
 ],
 "metadata": {
  "kernelspec": {
   "display_name": "Python 3",
   "language": "python",
   "name": "python3"
  },
  "language_info": {
   "codemirror_mode": {
    "name": "ipython",
    "version": 3
   },
   "file_extension": ".py",
   "mimetype": "text/x-python",
   "name": "python",
   "nbconvert_exporter": "python",
   "pygments_lexer": "ipython3",
   "version": "3.7.0"
  }
 },
 "nbformat": 4,
 "nbformat_minor": 4
}
