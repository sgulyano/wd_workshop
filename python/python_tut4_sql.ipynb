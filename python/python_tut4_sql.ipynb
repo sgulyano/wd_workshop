{
 "cells": [
  {
   "cell_type": "markdown",
   "metadata": {},
   "source": [
    "<a name=\"top\"></a>\n",
    "# Using SQL in Python\n",
    "Python needs a driver to access the RDBMS; and different RDBMS may require different driver. Here we will use [sqlite3](https://docs.python.org/3/library/sqlite3.html#module-sqlite3) since it is a self-contained, serverless,\n",
    "zero-configuration, transactional SQL database\n",
    "engine. It is perfect for beginners.\n",
    "\n",
    "In this tutorial, we will cover,\n",
    "1. [Connect to SQL Server](#connect_server)\n",
    "2. [Create Table](#create_table)\n",
    "3. [Manipulate Table](#manipulate_table)\n",
    "4. [Delete Table](#delete_table)"
   ]
  },
  {
   "cell_type": "markdown",
   "metadata": {},
   "source": [
    "<a name=\"connect_server\"></a>\n",
    "## 1. Connect to SQL Server"
   ]
  },
  {
   "cell_type": "code",
   "execution_count": 57,
   "metadata": {},
   "outputs": [
    {
     "name": "stdout",
     "output_type": "stream",
     "text": [
      "<sqlite3.Connection object at 0x7f4be4226730>\n"
     ]
    }
   ],
   "source": [
    "import sqlite3\n",
    "conn = sqlite3.connect('example.db')\n",
    "print(conn)"
   ]
  },
  {
   "cell_type": "markdown",
   "metadata": {},
   "source": [
    "`sqlite3.connect` creates a new database if the database with the specified name doesn't exist; otherwise, it opens the database. We interact with SQL database through a Cursor object."
   ]
  },
  {
   "cell_type": "code",
   "execution_count": 58,
   "metadata": {},
   "outputs": [
    {
     "name": "stdout",
     "output_type": "stream",
     "text": [
      "<sqlite3.Cursor object at 0x7f4be420a9d0>\n"
     ]
    }
   ],
   "source": [
    "c = conn.cursor()\n",
    "print(c)"
   ]
  },
  {
   "cell_type": "markdown",
   "metadata": {},
   "source": [
    "[[top](#top)]"
   ]
  },
  {
   "cell_type": "markdown",
   "metadata": {},
   "source": [
    "<a name=\"create_table\"></a>\n",
    "## 2. Create Table\n",
    "A database contains table(s). To create a table, use the `CREATE TABLE` statement."
   ]
  },
  {
   "cell_type": "code",
   "execution_count": 59,
   "metadata": {},
   "outputs": [
    {
     "data": {
      "text/plain": [
       "<sqlite3.Cursor at 0x7f4be420a9d0>"
      ]
     },
     "execution_count": 59,
     "metadata": {},
     "output_type": "execute_result"
    }
   ],
   "source": [
    "c.execute('''CREATE TABLE stocks\n",
    "        (date date, \n",
    "        trans text, \n",
    "        symbol text, \n",
    "        qty real, \n",
    "        price real)''')"
   ]
  },
  {
   "cell_type": "markdown",
   "metadata": {},
   "source": [
    "Here is the short list of SQL data types that we usually use.\n",
    "\n",
    "| Data Type | Description |\n",
    "|-----------|---------------------------|\n",
    "| char(n)   | Fixed length string |\n",
    "| text      | A string |\n",
    "| integer   | Signed integer |\n",
    "| real      | Floating precision number |\n",
    "| date      | Date |\n",
    "\n",
    "(For [more details](https://www.w3schools.com/sql/sql_datatypes.asp))"
   ]
  },
  {
   "cell_type": "markdown",
   "metadata": {},
   "source": [
    "[[top](#top)]"
   ]
  },
  {
   "cell_type": "markdown",
   "metadata": {},
   "source": [
    "<a name=\"manipulate_table\"></a>\n",
    "## 3. Manipulate Table\n",
    "We can do 4 basic functions to records:\n",
    "1. [Create](#create) ==> INSERT\n",
    "2. [Read](#read) ==> SELECT\n",
    "3. [Update](#update) ==> UPDATE\n",
    "4. [Delete](#delete) ==> DELETE\n",
    "\n",
    "<a name=\"create\"></a>\n",
    "### 3.1 Insert\n",
    "Use Cursor object to execute the \"INSERT INTO\" statement. And use `conn.commit` to apply changes."
   ]
  },
  {
   "cell_type": "code",
   "execution_count": 60,
   "metadata": {},
   "outputs": [],
   "source": [
    "c.execute(\"INSERT INTO stocks VALUES ('2018-01-12','BUY','RHAT',100,35.14)\")\n",
    "conn.commit()"
   ]
  },
  {
   "cell_type": "markdown",
   "metadata": {},
   "source": [
    "To insert multiple rows, use `executemany` function. "
   ]
  },
  {
   "cell_type": "code",
   "execution_count": 61,
   "metadata": {},
   "outputs": [
    {
     "data": {
      "text/plain": [
       "<sqlite3.Cursor at 0x7f4be420a9d0>"
      ]
     },
     "execution_count": 61,
     "metadata": {},
     "output_type": "execute_result"
    }
   ],
   "source": [
    "purchases = [('2018-04-12', 'BUY', 'IBM', 1000, 45.00),\n",
    "            ('2018-08-20', 'BUY', 'MSFT', 1000, 72.50),\n",
    "            ('2018-12-25', 'SELL', 'IBM', 500, 53.00)]\n",
    "c.executemany(\"INSERT INTO stocks VALUES (?,?,?,?,?)\", purchases)"
   ]
  },
  {
   "cell_type": "markdown",
   "metadata": {},
   "source": [
    "### SQL Injection Attack"
   ]
  },
  {
   "cell_type": "markdown",
   "metadata": {},
   "source": [
    "Don’t assemble your query using Python’s string\n",
    "operations because it is vulnerable to an SQL injection attack\n",
    "\n",
    "**SQL injections** is a code injection technique, in which nefarious SQL statements are executed.\n",
    "\n",
    "![SQL_injections](https://imgs.xkcd.com/comics/exploits_of_a_mom.png)"
   ]
  },
  {
   "cell_type": "markdown",
   "metadata": {},
   "source": [
    "<a name=\"read\"></a>\n",
    "### 3.2 Select\n",
    "Query is a request for data or information from a database table or combination of tables. Use `SELECT` statement to make a query from a table:"
   ]
  },
  {
   "cell_type": "code",
   "execution_count": 62,
   "metadata": {},
   "outputs": [
    {
     "name": "stdout",
     "output_type": "stream",
     "text": [
      "('2018-01-12', 'BUY', 'RHAT', 100.0, 35.14)\n"
     ]
    }
   ],
   "source": [
    "c.execute('SELECT * FROM stocks')\n",
    "print(c.fetchone())"
   ]
  },
  {
   "cell_type": "markdown",
   "metadata": {},
   "source": [
    "Use `fetchone` to retrieve one result record. Use `fetchall` to retrieve all result records."
   ]
  },
  {
   "cell_type": "code",
   "execution_count": 63,
   "metadata": {},
   "outputs": [
    {
     "name": "stdout",
     "output_type": "stream",
     "text": [
      "('2018-01-12', 'BUY', 'RHAT', 100.0, 35.14)\n",
      "('2018-04-12', 'BUY', 'IBM', 1000.0, 45.0)\n",
      "('2018-08-20', 'BUY', 'MSFT', 1000.0, 72.5)\n",
      "('2018-12-25', 'SELL', 'IBM', 500.0, 53.0)\n"
     ]
    }
   ],
   "source": [
    "c.execute('SELECT * FROM stocks')\n",
    "for record in c.fetchall():\n",
    "    print(record)"
   ]
  },
  {
   "cell_type": "markdown",
   "metadata": {},
   "source": [
    "### Filter\n",
    "To select only some columns, specify column name(s) after the `SELECT` statement"
   ]
  },
  {
   "cell_type": "code",
   "execution_count": 64,
   "metadata": {},
   "outputs": [
    {
     "name": "stdout",
     "output_type": "stream",
     "text": [
      "('BUY', 100.0)\n",
      "('BUY', 1000.0)\n",
      "('BUY', 1000.0)\n",
      "('SELL', 500.0)\n"
     ]
    }
   ],
   "source": [
    "c.execute('SELECT trans, qty FROM stocks')\n",
    "for record in c.fetchall():\n",
    "    print(record)"
   ]
  },
  {
   "cell_type": "markdown",
   "metadata": {},
   "source": [
    "To select only some rows, use `WHERE` statement to define the condition(s) of rows you want to include."
   ]
  },
  {
   "cell_type": "code",
   "execution_count": 65,
   "metadata": {},
   "outputs": [
    {
     "name": "stdout",
     "output_type": "stream",
     "text": [
      "('2018-04-12', 'BUY', 'IBM', 1000.0, 45.0)\n",
      "('2018-12-25', 'SELL', 'IBM', 500.0, 53.0)\n"
     ]
    }
   ],
   "source": [
    "symbol = 'IBM'\n",
    "c.execute(\"SELECT * FROM stocks WHERE symbol = ?\", (symbol, ))\n",
    "for record in c.fetchall():\n",
    "    print(record)"
   ]
  },
  {
   "cell_type": "markdown",
   "metadata": {},
   "source": [
    "Essentially, you want to put the parameters in the cursor command (not by manipulating the string directly), because it will make sure to make the data database safe. \n",
    "\n",
    "For more details, see https://docs.python.org/2/library/sqlite3.html#cursor-objects"
   ]
  },
  {
   "cell_type": "markdown",
   "metadata": {},
   "source": [
    "### Primary Key\n",
    "PRIMARY KEY is a column with a unique value for\n",
    "each record."
   ]
  },
  {
   "cell_type": "code",
   "execution_count": 66,
   "metadata": {},
   "outputs": [
    {
     "data": {
      "text/plain": [
       "<sqlite3.Cursor at 0x7f4be420a9d0>"
      ]
     },
     "execution_count": 66,
     "metadata": {},
     "output_type": "execute_result"
    }
   ],
   "source": [
    "c.execute('''CREATE TABLE brokers \n",
    "        (id integer primary key, \n",
    "        symbol text, \n",
    "        name text,\n",
    "        age int)''')"
   ]
  },
  {
   "cell_type": "markdown",
   "metadata": {},
   "source": [
    "`id` is a `integer primary key` column so it must contains an integer starting at 1, and increated by one for each record."
   ]
  },
  {
   "cell_type": "code",
   "execution_count": 67,
   "metadata": {},
   "outputs": [],
   "source": [
    "brokers = [('IBM', 'John', 40), \n",
    "          ('MSFT', 'Amy', 35), \n",
    "          ('RHAT', 'Matt', 55)]\n",
    "c.executemany(\"INSERT INTO brokers(symbol, name, age) VALUES(?,?,?)\",\n",
    "             brokers)\n",
    "conn.commit()"
   ]
  },
  {
   "cell_type": "code",
   "execution_count": 68,
   "metadata": {},
   "outputs": [
    {
     "name": "stdout",
     "output_type": "stream",
     "text": [
      "(1, 'IBM', 'John', 40)\n",
      "(2, 'MSFT', 'Amy', 35)\n",
      "(3, 'RHAT', 'Matt', 55)\n"
     ]
    }
   ],
   "source": [
    "c.execute(\"SELECT * FROM brokers\")\n",
    "for record in c.fetchall():\n",
    "    print(record)"
   ]
  },
  {
   "cell_type": "markdown",
   "metadata": {},
   "source": [
    "### Work with Multiple Tables\n",
    "Relational databases always involve multiple tables. Use `JOIN` statment to combine rows from two or more tables. There are 4 ways to join. The most frequently used one is the `INNER JOIN`, which returns records that have matching values in both tables\n",
    "\n",
    "![](https://www.w3schools.com/sql/img_innerjoin.gif)"
   ]
  },
  {
   "cell_type": "code",
   "execution_count": 69,
   "metadata": {},
   "outputs": [
    {
     "name": "stdout",
     "output_type": "stream",
     "text": [
      "('2018-01-12', 'BUY', 'RHAT', 100.0, 35.14, 3, 'RHAT', 'Matt', 55)\n",
      "('2018-04-12', 'BUY', 'IBM', 1000.0, 45.0, 1, 'IBM', 'John', 40)\n",
      "('2018-08-20', 'BUY', 'MSFT', 1000.0, 72.5, 2, 'MSFT', 'Amy', 35)\n",
      "('2018-12-25', 'SELL', 'IBM', 500.0, 53.0, 1, 'IBM', 'John', 40)\n"
     ]
    }
   ],
   "source": [
    "c.execute('''SELECT * FROM stocks \n",
    "                INNER JOIN brokers \n",
    "                ON stocks.symbol = brokers.symbol''')\n",
    "for record in c.fetchall():\n",
    "    print(record)"
   ]
  },
  {
   "cell_type": "markdown",
   "metadata": {},
   "source": [
    "Use `ON` the specify the matching conditions. For multiple conditions, use `AND` and `OR`.\n",
    "\n",
    "#### Comparison operators in SQL\n",
    "\n",
    "| Operator | Description |\n",
    "|----------|-------------|\n",
    "| =        | Equal to |\n",
    "| >        | Greater than |\n",
    "| <        | Less than |\n",
    "| >=       | Greater than or equal to |\n",
    "| <=       | Less than or equal to |\n",
    "| <>       | Not equal to |"
   ]
  },
  {
   "cell_type": "markdown",
   "metadata": {},
   "source": [
    "### Alias\n",
    "Use `AS` to rename columns or tables."
   ]
  },
  {
   "cell_type": "code",
   "execution_count": 70,
   "metadata": {},
   "outputs": [
    {
     "name": "stdout",
     "output_type": "stream",
     "text": [
      "('2018-01-12', 'BUY', 'RHAT', 100.0, 35.14, 3, 'RHAT', 'Matt', 55)\n",
      "('2018-04-12', 'BUY', 'IBM', 1000.0, 45.0, 1, 'IBM', 'John', 40)\n",
      "('2018-08-20', 'BUY', 'MSFT', 1000.0, 72.5, 2, 'MSFT', 'Amy', 35)\n",
      "('2018-12-25', 'SELL', 'IBM', 500.0, 53.0, 1, 'IBM', 'John', 40)\n"
     ]
    }
   ],
   "source": [
    "c.execute('''SELECT * FROM stocks AS s\n",
    "                INNER JOIN brokers AS b\n",
    "                ON s.symbol = b.symbol''')\n",
    "for record in c.fetchall():\n",
    "    print(record)"
   ]
  },
  {
   "cell_type": "markdown",
   "metadata": {},
   "source": [
    "[[top](#top)]"
   ]
  },
  {
   "cell_type": "markdown",
   "metadata": {},
   "source": [
    "<a name=\"update\"></a>\n",
    "### 3.3 Update\n",
    "To change values of existing records in a table, use `UPDATE...SET...WHERE` statement"
   ]
  },
  {
   "cell_type": "code",
   "execution_count": 71,
   "metadata": {},
   "outputs": [
    {
     "name": "stdout",
     "output_type": "stream",
     "text": [
      "('2018-01-12', 'BUY', 'RHAT', 200.0, 50.0)\n",
      "('2018-04-12', 'BUY', 'IBM', 1000.0, 45.0)\n",
      "('2018-08-20', 'BUY', 'MSFT', 1000.0, 72.5)\n",
      "('2018-12-25', 'SELL', 'IBM', 500.0, 53.0)\n"
     ]
    }
   ],
   "source": [
    "symbol = 'RHAT'\n",
    "c.execute('''UPDATE stocks SET qty = 200, price = 50\n",
    "                WHERE symbol = \"{}\"'''.format(symbol))\n",
    "c.execute('SELECT * FROM stocks')\n",
    "for record in c.fetchall():\n",
    "    print(record)"
   ]
  },
  {
   "cell_type": "markdown",
   "metadata": {},
   "source": [
    "<a name=\"delete\"></a>\n",
    "### 3.4 Delete\n",
    "To remove records, use `DELETE FROM` statement"
   ]
  },
  {
   "cell_type": "code",
   "execution_count": 72,
   "metadata": {},
   "outputs": [
    {
     "name": "stdout",
     "output_type": "stream",
     "text": [
      "('2018-04-12', 'BUY', 'IBM', 1000.0, 45.0)\n",
      "('2018-08-20', 'BUY', 'MSFT', 1000.0, 72.5)\n",
      "('2018-12-25', 'SELL', 'IBM', 500.0, 53.0)\n"
     ]
    }
   ],
   "source": [
    "symbol = 'RHAT'\n",
    "c.execute('DELETE FROM stocks WHERE symbol = \"{}\"'.format(symbol))\n",
    "conn.commit()\n",
    "c.execute('SELECT * FROM stocks')\n",
    "for record in c.fetchall():\n",
    "    print(record)"
   ]
  },
  {
   "cell_type": "markdown",
   "metadata": {},
   "source": [
    "Notice that we call `commit` after insertion or deletion, when changes in records occur."
   ]
  },
  {
   "cell_type": "markdown",
   "metadata": {},
   "source": [
    "[[top](#top)]"
   ]
  },
  {
   "cell_type": "markdown",
   "metadata": {},
   "source": [
    "<a name=\"delete_table\"></a>\n",
    "## 4. Delete Table\n",
    "To delete an existing table, use `DROP TABLE` statement"
   ]
  },
  {
   "cell_type": "code",
   "execution_count": 73,
   "metadata": {},
   "outputs": [
    {
     "data": {
      "text/plain": [
       "<sqlite3.Cursor at 0x7f4be420a9d0>"
      ]
     },
     "execution_count": 73,
     "metadata": {},
     "output_type": "execute_result"
    }
   ],
   "source": [
    "c.execute('DROP TABLE stocks')"
   ]
  },
  {
   "cell_type": "markdown",
   "metadata": {},
   "source": [
    "Use the following code to get a list of tables."
   ]
  },
  {
   "cell_type": "code",
   "execution_count": 74,
   "metadata": {},
   "outputs": [
    {
     "name": "stdout",
     "output_type": "stream",
     "text": [
      "[('brokers',)]\n"
     ]
    }
   ],
   "source": [
    "c.execute(\"SELECT name FROM sqlite_master WHERE type='table';\")\n",
    "print(c.fetchall())"
   ]
  },
  {
   "cell_type": "markdown",
   "metadata": {},
   "source": [
    "[[top](#top)]"
   ]
  },
  {
   "cell_type": "markdown",
   "metadata": {},
   "source": [
    "----\n",
    "\n",
    "## Open SQL with Pandas\n",
    "\n",
    "The [`pandas.io.sql` module](http://pandas.pydata.org/pandas-docs/stable/user_guide/io.html#sql-queries) provides a collection of query wrappers to both facilitate data retrieval and to reduce dependency on DB-specific API. It supports multiple driver library, e.g., SQLAlchemy. \n",
    "\n",
    "### Query\n",
    "To query, use `read_sql` with SQL statement to load data into DataFrame (see https://pandas.pydata.org/pandas-docs/stable/reference/api/pandas.read_sql.html):\n"
   ]
  },
  {
   "cell_type": "code",
   "execution_count": 75,
   "metadata": {},
   "outputs": [
    {
     "data": {
      "text/html": [
       "<div>\n",
       "<style scoped>\n",
       "    .dataframe tbody tr th:only-of-type {\n",
       "        vertical-align: middle;\n",
       "    }\n",
       "\n",
       "    .dataframe tbody tr th {\n",
       "        vertical-align: top;\n",
       "    }\n",
       "\n",
       "    .dataframe thead th {\n",
       "        text-align: right;\n",
       "    }\n",
       "</style>\n",
       "<table border=\"1\" class=\"dataframe\">\n",
       "  <thead>\n",
       "    <tr style=\"text-align: right;\">\n",
       "      <th></th>\n",
       "      <th>id</th>\n",
       "      <th>symbol</th>\n",
       "      <th>name</th>\n",
       "      <th>age</th>\n",
       "    </tr>\n",
       "  </thead>\n",
       "  <tbody>\n",
       "    <tr>\n",
       "      <td>0</td>\n",
       "      <td>1</td>\n",
       "      <td>IBM</td>\n",
       "      <td>John</td>\n",
       "      <td>40</td>\n",
       "    </tr>\n",
       "    <tr>\n",
       "      <td>1</td>\n",
       "      <td>2</td>\n",
       "      <td>MSFT</td>\n",
       "      <td>Amy</td>\n",
       "      <td>35</td>\n",
       "    </tr>\n",
       "    <tr>\n",
       "      <td>2</td>\n",
       "      <td>3</td>\n",
       "      <td>RHAT</td>\n",
       "      <td>Matt</td>\n",
       "      <td>55</td>\n",
       "    </tr>\n",
       "  </tbody>\n",
       "</table>\n",
       "</div>"
      ],
      "text/plain": [
       "   id symbol  name  age\n",
       "0   1    IBM  John   40\n",
       "1   2   MSFT   Amy   35\n",
       "2   3   RHAT  Matt   55"
      ]
     },
     "execution_count": 75,
     "metadata": {},
     "output_type": "execute_result"
    }
   ],
   "source": [
    "import pandas as pd\n",
    "import sqlite3\n",
    "conn = sqlite3.connect(\"example.db\")\n",
    "pd.read_sql(\"select * from brokers;\", conn)"
   ]
  },
  {
   "cell_type": "markdown",
   "metadata": {},
   "source": [
    "However, `to_sql` function doesn't handle different RDBMS very well. It is better to use the driver library directly."
   ]
  },
  {
   "cell_type": "code",
   "execution_count": 76,
   "metadata": {},
   "outputs": [
    {
     "data": {
      "text/plain": [
       "<sqlite3.Cursor at 0x7f4be420a9d0>"
      ]
     },
     "execution_count": 76,
     "metadata": {},
     "output_type": "execute_result"
    }
   ],
   "source": [
    "c.execute('DROP TABLE brokers')"
   ]
  }
 ],
 "metadata": {
  "kernelspec": {
   "display_name": "Python 3",
   "language": "python",
   "name": "python3"
  },
  "language_info": {
   "codemirror_mode": {
    "name": "ipython",
    "version": 3
   },
   "file_extension": ".py",
   "mimetype": "text/x-python",
   "name": "python",
   "nbconvert_exporter": "python",
   "pygments_lexer": "ipython3",
   "version": "3.7.0"
  }
 },
 "nbformat": 4,
 "nbformat_minor": 4
}
