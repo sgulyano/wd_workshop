{
 "cells": [
  {
   "cell_type": "markdown",
   "metadata": {},
   "source": [
    "<a name=\"top\"></a>\n",
    "# Python Workshop 3\n",
    "We will look at [NumPy](http://www.numpy.org/) and [Pandas](https://pandas.pydata.org/), which are two of the most popular packages for data analysts these days.\n",
    "\n",
    "* [NumPy](#numpy) is the homogeneous multidimensional array, which is perfect for predictive analysis.\n",
    "* [Pandas](#pandas) provides an easy-to-use data structures, which is great for handling data."
   ]
  },
  {
   "cell_type": "markdown",
   "metadata": {},
   "source": [
    "-----\n",
    "<a name=\"numpy\"></a>\n",
    "## NumPy\n",
    "NumPy’s main object is the homogeneous multidimensional array (a N-dimensional hypervolume whose elements, usually numbers, are all of the same type). NumPy’s array class is called `ndarray`. Here we will cover:\n",
    "* Array Creation\n",
    "* Basic Operations\n",
    "* Indexing, Slicing and Iterating\n",
    "* Shape Manipulation\n",
    "* Copies\n",
    "* Broadcasting Rules\n",
    "\n",
    "More details [here](https://docs.scipy.org/doc/numpy-1.15.1/user/quickstart.html).\n",
    "\n",
    "### Array Creation\n",
    "First, we need to create the `ndarray`. There are several ways to create arrays."
   ]
  },
  {
   "cell_type": "code",
   "execution_count": 56,
   "metadata": {},
   "outputs": [
    {
     "name": "stdout",
     "output_type": "stream",
     "text": [
      "a=[2 3 4]\n",
      "type=<class 'numpy.ndarray'>\n",
      "b= [1.2 3.5 5.1]\n",
      "c= [[0. 0. 0. 0.]\n",
      " [0. 0. 0. 0.]]\n",
      "d= [[[1. 1. 1. 1.]\n",
      "  [1. 1. 1. 1.]\n",
      "  [1. 1. 1. 1.]]\n",
      "\n",
      " [[1. 1. 1. 1.]\n",
      "  [1. 1. 1. 1.]\n",
      "  [1. 1. 1. 1.]]]\n",
      "e= [[4.9e-324 9.9e-324 1.5e-323]\n",
      " [2.0e-323 2.5e-323 3.0e-323]]\n"
     ]
    }
   ],
   "source": [
    "import numpy as np\n",
    "a = np.array([2,3,4])\n",
    "print('a={}\\ntype={}'.format(a, type(a)))\n",
    "b = np.array([1.2, 3.5, 5.1])\n",
    "print('b=',b)\n",
    "c = np.zeros((2,4))\n",
    "print('c=',c)\n",
    "d = np.ones((2,3,4))\n",
    "print('d=',d)\n",
    "e = np.empty((2,3))\n",
    "print('e=',e)"
   ]
  },
  {
   "cell_type": "markdown",
   "metadata": {},
   "source": [
    "Notice how NumPy displays array (in NumPy dimensions are called axes):\n",
    "* The last axis is printed from left to right,\n",
    "* The second-to-last is printed from top to bottom,\n",
    "* The rest are also printed from top to bottom, with each slice separated from the next by an empty line.\n",
    "\n",
    "You can create sequences of numbers as well"
   ]
  },
  {
   "cell_type": "code",
   "execution_count": 57,
   "metadata": {},
   "outputs": [
    {
     "name": "stdout",
     "output_type": "stream",
     "text": [
      "arange= [10 15 20 25]\n",
      "linspace= [0.   0.25 0.5  0.75 1.   1.25 1.5  1.75 2.  ]\n",
      "random= [[0.07635127 0.46437346 0.51108858 0.52961393]\n",
      " [0.24813921 0.83966458 0.77815347 0.35104367]\n",
      " [0.87344161 0.67031862 0.43899596 0.81716443]]\n"
     ]
    }
   ],
   "source": [
    "f = np.arange(10, 30, 5)\n",
    "print('arange=', f)\n",
    "g = np.linspace(0, 2, 9)\n",
    "print('linspace=', g)\n",
    "h = np.random.random((3,4))\n",
    "print('random=', h)"
   ]
  },
  {
   "cell_type": "markdown",
   "metadata": {},
   "source": [
    "`ndarray` has a number of attributes."
   ]
  },
  {
   "cell_type": "code",
   "execution_count": 58,
   "metadata": {},
   "outputs": [
    {
     "name": "stdout",
     "output_type": "stream",
     "text": [
      "a= [2 3 4]\n",
      "a.ndim= 1\n",
      "a.shape= (3,)\n",
      "a.size= 3\n",
      "a.dtype= int64\n"
     ]
    }
   ],
   "source": [
    "print('a=',a)\n",
    "print('a.ndim=',a.ndim)\n",
    "print('a.shape=',a.shape)\n",
    "print('a.size=',a.size)\n",
    "print('a.dtype=',a.dtype)"
   ]
  },
  {
   "cell_type": "markdown",
   "metadata": {},
   "source": [
    "### Basic Operations\n",
    "Arithmetic operators on arrays apply elementwise."
   ]
  },
  {
   "cell_type": "code",
   "execution_count": 59,
   "metadata": {},
   "outputs": [
    {
     "name": "stdout",
     "output_type": "stream",
     "text": [
      "a= [2 3 4]\n",
      "b= [1.2 3.5 5.1]\n",
      "a-b= [ 0.8 -0.5 -1.1]\n"
     ]
    }
   ],
   "source": [
    "print('a=',a)\n",
    "print('b=',b)\n",
    "print('a-b=',a-b)"
   ]
  },
  {
   "cell_type": "code",
   "execution_count": 60,
   "metadata": {},
   "outputs": [
    {
     "name": "stdout",
     "output_type": "stream",
     "text": [
      "[ 4  9 16]\n",
      "[1.41421356 1.73205081 2.        ]\n",
      "[False  True  True]\n"
     ]
    }
   ],
   "source": [
    "print(a**2)\n",
    "print(np.sqrt(a))\n",
    "print(b>3)"
   ]
  },
  {
   "cell_type": "markdown",
   "metadata": {},
   "source": [
    "Many unary operations, such as the sum of all the elements in the array, are implemented as methods of the `ndarray` class."
   ]
  },
  {
   "cell_type": "code",
   "execution_count": 61,
   "metadata": {},
   "outputs": [
    {
     "name": "stdout",
     "output_type": "stream",
     "text": [
      "9\n",
      "3.0\n",
      "0.816496580927726\n",
      "2 4\n"
     ]
    }
   ],
   "source": [
    "print(a.sum())\n",
    "print(a.mean())\n",
    "print(a.std())\n",
    "print(a.min(), a.max())"
   ]
  },
  {
   "cell_type": "markdown",
   "metadata": {},
   "source": [
    "### Indexing, Slicing and Iterating\n",
    "**Indexing** and **slicing** are similar to list. Multidimensional arrays can have one index per axis. These indices are given in a tuple separated by commas:"
   ]
  },
  {
   "cell_type": "code",
   "execution_count": 62,
   "metadata": {},
   "outputs": [
    {
     "name": "stdout",
     "output_type": "stream",
     "text": [
      "a= [2 3 4]\n",
      "a[1]= 3\n",
      "a[1:]= [3 4]\n"
     ]
    }
   ],
   "source": [
    "print('a=',a)\n",
    "print('a[1]=',a[1])\n",
    "print('a[1:]=',a[1:])"
   ]
  },
  {
   "cell_type": "code",
   "execution_count": 63,
   "metadata": {},
   "outputs": [
    {
     "name": "stdout",
     "output_type": "stream",
     "text": [
      "e= [[4.9e-324 9.9e-324 1.5e-323]\n",
      " [2.0e-323 2.5e-323 3.0e-323]]\n",
      "e[0,1]= 1e-323\n",
      "e[:,1]= [9.9e-324 2.5e-323]\n",
      "e[0,0:2]= [5.e-324 1.e-323]\n"
     ]
    }
   ],
   "source": [
    "print('e=',e)\n",
    "print('e[0,1]=',e[0,1])\n",
    "print('e[:,1]=',e[:,1])\n",
    "print('e[0,0:2]=',e[0,0:2])"
   ]
  },
  {
   "cell_type": "markdown",
   "metadata": {},
   "source": [
    "When fewer indices are provided than the number of axes, the missing indices are considered complete slices."
   ]
  },
  {
   "cell_type": "code",
   "execution_count": 64,
   "metadata": {},
   "outputs": [
    {
     "name": "stdout",
     "output_type": "stream",
     "text": [
      "d= [[[1. 1. 1. 1.]\n",
      "  [1. 1. 1. 1.]\n",
      "  [1. 1. 1. 1.]]\n",
      "\n",
      " [[1. 1. 1. 1.]\n",
      "  [1. 1. 1. 1.]\n",
      "  [1. 1. 1. 1.]]]\n",
      "d[1]= [[1. 1. 1. 1.]\n",
      " [1. 1. 1. 1.]\n",
      " [1. 1. 1. 1.]]\n",
      "d[...,3]= [[1. 1. 1.]\n",
      " [1. 1. 1.]]\n"
     ]
    }
   ],
   "source": [
    "print('d=',d)\n",
    "print('d[1]=',d[1])\n",
    "print('d[...,3]=', d[...,3])"
   ]
  },
  {
   "cell_type": "markdown",
   "metadata": {},
   "source": [
    "**Iterating** over multidimensional arrays is done with respect to the first axis:"
   ]
  },
  {
   "cell_type": "code",
   "execution_count": 65,
   "metadata": {},
   "outputs": [
    {
     "name": "stdout",
     "output_type": "stream",
     "text": [
      "row= [4.9e-324 9.9e-324 1.5e-323]\n",
      "row= [2.0e-323 2.5e-323 3.0e-323]\n"
     ]
    }
   ],
   "source": [
    "for row in e:\n",
    "    print('row=',row)"
   ]
  },
  {
   "cell_type": "markdown",
   "metadata": {},
   "source": [
    "### Shape Manipulation\n",
    "You can change the shape of an array."
   ]
  },
  {
   "cell_type": "code",
   "execution_count": 66,
   "metadata": {},
   "outputs": [
    {
     "name": "stdout",
     "output_type": "stream",
     "text": [
      "h= [[0.07635127 0.46437346 0.51108858 0.52961393]\n",
      " [0.24813921 0.83966458 0.77815347 0.35104367]\n",
      " [0.87344161 0.67031862 0.43899596 0.81716443]]\n",
      "(3, 4)\n"
     ]
    }
   ],
   "source": [
    "print('h=',h)\n",
    "print(h.shape)"
   ]
  },
  {
   "cell_type": "code",
   "execution_count": 67,
   "metadata": {},
   "outputs": [
    {
     "name": "stdout",
     "output_type": "stream",
     "text": [
      "reshape= [[0.07635127 0.46437346]\n",
      " [0.51108858 0.52961393]\n",
      " [0.24813921 0.83966458]\n",
      " [0.77815347 0.35104367]\n",
      " [0.87344161 0.67031862]\n",
      " [0.43899596 0.81716443]]\n"
     ]
    }
   ],
   "source": [
    "print('reshape=',h.reshape(6,2))"
   ]
  },
  {
   "cell_type": "code",
   "execution_count": 68,
   "metadata": {},
   "outputs": [
    {
     "name": "stdout",
     "output_type": "stream",
     "text": [
      "transpose= [[0.07635127 0.24813921 0.87344161]\n",
      " [0.46437346 0.83966458 0.67031862]\n",
      " [0.51108858 0.77815347 0.43899596]\n",
      " [0.52961393 0.35104367 0.81716443]]\n"
     ]
    }
   ],
   "source": [
    "print('transpose=',h.T)"
   ]
  },
  {
   "cell_type": "markdown",
   "metadata": {},
   "source": [
    "### Copies\n",
    "**No Copy at All** (passing-by-reference): Simple assignments make no copy of array objects or of their data."
   ]
  },
  {
   "cell_type": "code",
   "execution_count": 69,
   "metadata": {},
   "outputs": [
    {
     "name": "stdout",
     "output_type": "stream",
     "text": [
      "a= [ 0  1  2  3  4  5  6  7  8  9 10 11]\n",
      "True\n",
      "a= [100   1   2   3   4   5   6   7   8   9  10  11]\n"
     ]
    }
   ],
   "source": [
    "a = np.arange(12)\n",
    "b = a\n",
    "print('a=',a)\n",
    "print(b is a)\n",
    "b[0] = 100\n",
    "print('a=',a)"
   ]
  },
  {
   "cell_type": "markdown",
   "metadata": {},
   "source": [
    "**Deep Copy** (passing-by-value): The `copy` method makes a complete copy of the array and its data."
   ]
  },
  {
   "cell_type": "code",
   "execution_count": 70,
   "metadata": {},
   "outputs": [
    {
     "name": "stdout",
     "output_type": "stream",
     "text": [
      "False\n",
      "a= [100   1   2   3   4   5   6   7   8   9  10  11]\n",
      "d= [50  1  2  3  4  5  6  7  8  9 10 11]\n"
     ]
    }
   ],
   "source": [
    "d = a.copy()\n",
    "print(d is a)\n",
    "d[0] = 50\n",
    "print('a=',a)\n",
    "print('d=',d)"
   ]
  },
  {
   "cell_type": "markdown",
   "metadata": {},
   "source": [
    "### Broadcasting Rules\n",
    "\n",
    "When operating on two arrays, NumPy compares their shapes element-wise. It starts with the trailing dimensions, and works its way forward. Two dimensions are compatible when\n",
    "\n",
    "1. they are equal, or\n",
    "2. one of them is 1\n",
    "\n",
    "If these conditions are not met, a `ValueError: operands could not be broadcast together` exception is thrown, indicating that the arrays have incompatible shapes. The size of the resulting array is the maximum size along each dimension of the input arrays."
   ]
  },
  {
   "cell_type": "code",
   "execution_count": 71,
   "metadata": {},
   "outputs": [
    {
     "name": "stdout",
     "output_type": "stream",
     "text": [
      "a \t size = (3, 2)\n",
      " [[1 2]\n",
      " [3 4]\n",
      " [5 6]]\n",
      "b \t size = (2,)\n",
      " [ 10 -10]\n",
      "a+b \t size = (3, 2)\n",
      " [[11 -8]\n",
      " [13 -6]\n",
      " [15 -4]]\n"
     ]
    }
   ],
   "source": [
    "a = np.array([[1,2],\n",
    "              [3,4],\n",
    "              [5,6]])\n",
    "b = np.array([10,-10])\n",
    "print(f'a \\t size = {a.shape}\\n', a)\n",
    "print(f'b \\t size = {b.shape}\\n', b)\n",
    "print(f'a+b \\t size = {(a+b).shape}\\n', a+b)"
   ]
  },
  {
   "cell_type": "code",
   "execution_count": 72,
   "metadata": {},
   "outputs": [
    {
     "name": "stdout",
     "output_type": "stream",
     "text": [
      "a \t size = (2, 4, 3)\n",
      " [[[ 0  1  2]\n",
      "  [ 3  4  5]\n",
      "  [ 6  7  8]\n",
      "  [ 9 10 11]]\n",
      "\n",
      " [[12 13 14]\n",
      "  [15 16 17]\n",
      "  [18 19 20]\n",
      "  [21 22 23]]]\n",
      "b \t size = (3,)\n",
      " [-1.   1.   0.1]\n",
      "a*b \t size = (2, 4, 3)\n",
      " [[[ -0.    1.    0.2]\n",
      "  [ -3.    4.    0.5]\n",
      "  [ -6.    7.    0.8]\n",
      "  [ -9.   10.    1.1]]\n",
      "\n",
      " [[-12.   13.    1.4]\n",
      "  [-15.   16.    1.7]\n",
      "  [-18.   19.    2. ]\n",
      "  [-21.   22.    2.3]]]\n"
     ]
    }
   ],
   "source": [
    "a = np.arange(24).reshape((2,4,3))\n",
    "b = np.array([-1,1,0.1])\n",
    "print(f'a \\t size = {a.shape}\\n', a)\n",
    "print(f'b \\t size = {b.shape}\\n', b)\n",
    "print(f'a*b \\t size = {(a*b).shape}\\n', a*b)"
   ]
  },
  {
   "cell_type": "markdown",
   "metadata": {},
   "source": [
    "The second rule of broadcasting provides a convenient way of taking the outer operation of two arrays."
   ]
  },
  {
   "cell_type": "code",
   "execution_count": 73,
   "metadata": {},
   "outputs": [
    {
     "name": "stdout",
     "output_type": "stream",
     "text": [
      "a \t\t size = (4,)\n",
      " [ 0. 10. 20. 30.]\n",
      "b \t\t size = (3,)\n",
      " [1. 2. 3.]\n",
      "a[:, np.newaxis] size = (4, 1)\n",
      "a[:, np.newaxis] + b = \n",
      " [[ 1.  2.  3.]\n",
      " [11. 12. 13.]\n",
      " [21. 22. 23.]\n",
      " [31. 32. 33.]]\n"
     ]
    }
   ],
   "source": [
    "a = np.array([0.0, 10.0, 20.0, 30.0])\n",
    "b = np.array([1.0, 2.0, 3.0])\n",
    "print(f'a \\t\\t size = {a.shape}\\n', a)\n",
    "print(f'b \\t\\t size = {b.shape}\\n', b)\n",
    "print(f'a[:, np.newaxis] size = {a[:, np.newaxis].shape}')\n",
    "print('a[:, np.newaxis] + b = \\n', a[:, np.newaxis] + b)"
   ]
  },
  {
   "cell_type": "markdown",
   "metadata": {},
   "source": [
    "Here the `newaxis` index operator inserts a new axis into a, making it a two-dimensional 4x1 array. Combining the 4x1 array with b, which has shape (3,), yields a 4x3 array."
   ]
  },
  {
   "cell_type": "markdown",
   "metadata": {},
   "source": [
    "[[top](#top)]\n",
    "\n",
    "----"
   ]
  },
  {
   "cell_type": "markdown",
   "metadata": {},
   "source": [
    "## <a name=\"pandas\"></a> Pandas\n",
    "pandas is an open source, BSD-licensed library providing high-performance, easy-to-use data structures and data analysis tools for the Python programming language.\n",
    "\n",
    "Pandas handles data through\n",
    "* Series for 1D data\n",
    "* Data Frame for 2D data"
   ]
  },
  {
   "cell_type": "markdown",
   "metadata": {},
   "source": [
    "### Series\n",
    "Series is a one-dimensional labeled array capable of holding data of any type (integer, string, float, python objects, etc.)."
   ]
  },
  {
   "cell_type": "code",
   "execution_count": 74,
   "metadata": {},
   "outputs": [
    {
     "data": {
      "text/plain": [
       "0      1\n",
       "1      3\n",
       "2      5\n",
       "3    str\n",
       "4    6.1\n",
       "dtype: object"
      ]
     },
     "execution_count": 74,
     "metadata": {},
     "output_type": "execute_result"
    }
   ],
   "source": [
    "import pandas as pd\n",
    "s = pd.Series([1,3,5,'str',6.1])\n",
    "s"
   ]
  },
  {
   "cell_type": "code",
   "execution_count": 75,
   "metadata": {},
   "outputs": [
    {
     "data": {
      "text/plain": [
       "0    0\n",
       "1    1\n",
       "2    2\n",
       "dtype: int64"
      ]
     },
     "execution_count": 75,
     "metadata": {},
     "output_type": "execute_result"
    }
   ],
   "source": [
    "s = pd.Series(range(3))\n",
    "s"
   ]
  },
  {
   "cell_type": "markdown",
   "metadata": {},
   "source": [
    "### DataFrame\n",
    "A Data frame is a 2D data structure, where data is aligned in a tabular fashion in rows and columns."
   ]
  },
  {
   "cell_type": "code",
   "execution_count": 76,
   "metadata": {},
   "outputs": [
    {
     "name": "stdout",
     "output_type": "stream",
     "text": [
      "          A         B         C         D\n",
      "0  1.175837  1.229544 -0.747967 -0.037420\n",
      "1  0.455640 -1.363090 -0.070912  1.059917\n",
      "2 -0.969031 -0.950011 -1.404612  2.181282\n"
     ]
    }
   ],
   "source": [
    "df1 = pd.DataFrame(np.random.randn(3,4), columns=['A','B','C','D'])\n",
    "print(df1)"
   ]
  },
  {
   "cell_type": "code",
   "execution_count": 77,
   "metadata": {},
   "outputs": [
    {
     "data": {
      "text/html": [
       "<div>\n",
       "<style scoped>\n",
       "    .dataframe tbody tr th:only-of-type {\n",
       "        vertical-align: middle;\n",
       "    }\n",
       "\n",
       "    .dataframe tbody tr th {\n",
       "        vertical-align: top;\n",
       "    }\n",
       "\n",
       "    .dataframe thead th {\n",
       "        text-align: right;\n",
       "    }\n",
       "</style>\n",
       "<table border=\"1\" class=\"dataframe\">\n",
       "  <thead>\n",
       "    <tr style=\"text-align: right;\">\n",
       "      <th></th>\n",
       "      <th>A</th>\n",
       "      <th>B</th>\n",
       "      <th>C</th>\n",
       "      <th>D</th>\n",
       "    </tr>\n",
       "  </thead>\n",
       "  <tbody>\n",
       "    <tr>\n",
       "      <td>0</td>\n",
       "      <td>1.175837</td>\n",
       "      <td>1.229544</td>\n",
       "      <td>-0.747967</td>\n",
       "      <td>-0.037420</td>\n",
       "    </tr>\n",
       "    <tr>\n",
       "      <td>1</td>\n",
       "      <td>0.455640</td>\n",
       "      <td>-1.363090</td>\n",
       "      <td>-0.070912</td>\n",
       "      <td>1.059917</td>\n",
       "    </tr>\n",
       "    <tr>\n",
       "      <td>2</td>\n",
       "      <td>-0.969031</td>\n",
       "      <td>-0.950011</td>\n",
       "      <td>-1.404612</td>\n",
       "      <td>2.181282</td>\n",
       "    </tr>\n",
       "  </tbody>\n",
       "</table>\n",
       "</div>"
      ],
      "text/plain": [
       "          A         B         C         D\n",
       "0  1.175837  1.229544 -0.747967 -0.037420\n",
       "1  0.455640 -1.363090 -0.070912  1.059917\n",
       "2 -0.969031 -0.950011 -1.404612  2.181282"
      ]
     },
     "execution_count": 77,
     "metadata": {},
     "output_type": "execute_result"
    }
   ],
   "source": [
    "df1"
   ]
  },
  {
   "cell_type": "code",
   "execution_count": 78,
   "metadata": {},
   "outputs": [
    {
     "data": {
      "text/html": [
       "<div>\n",
       "<style scoped>\n",
       "    .dataframe tbody tr th:only-of-type {\n",
       "        vertical-align: middle;\n",
       "    }\n",
       "\n",
       "    .dataframe tbody tr th {\n",
       "        vertical-align: top;\n",
       "    }\n",
       "\n",
       "    .dataframe thead th {\n",
       "        text-align: right;\n",
       "    }\n",
       "</style>\n",
       "<table border=\"1\" class=\"dataframe\">\n",
       "  <thead>\n",
       "    <tr style=\"text-align: right;\">\n",
       "      <th></th>\n",
       "      <th>A</th>\n",
       "      <th>B</th>\n",
       "      <th>C</th>\n",
       "    </tr>\n",
       "  </thead>\n",
       "  <tbody>\n",
       "    <tr>\n",
       "      <td>0</td>\n",
       "      <td>1</td>\n",
       "      <td>0</td>\n",
       "      <td>Hello</td>\n",
       "    </tr>\n",
       "    <tr>\n",
       "      <td>1</td>\n",
       "      <td>1</td>\n",
       "      <td>1</td>\n",
       "      <td>Hello</td>\n",
       "    </tr>\n",
       "    <tr>\n",
       "      <td>2</td>\n",
       "      <td>1</td>\n",
       "      <td>2</td>\n",
       "      <td>Hello</td>\n",
       "    </tr>\n",
       "  </tbody>\n",
       "</table>\n",
       "</div>"
      ],
      "text/plain": [
       "   A  B      C\n",
       "0  1  0  Hello\n",
       "1  1  1  Hello\n",
       "2  1  2  Hello"
      ]
     },
     "execution_count": 78,
     "metadata": {},
     "output_type": "execute_result"
    }
   ],
   "source": [
    "df2 = pd.DataFrame({'A':1, 'B':np.arange(3), 'C':'Hello'})\n",
    "df2"
   ]
  },
  {
   "cell_type": "code",
   "execution_count": 79,
   "metadata": {},
   "outputs": [
    {
     "data": {
      "text/html": [
       "<div>\n",
       "<style scoped>\n",
       "    .dataframe tbody tr th:only-of-type {\n",
       "        vertical-align: middle;\n",
       "    }\n",
       "\n",
       "    .dataframe tbody tr th {\n",
       "        vertical-align: top;\n",
       "    }\n",
       "\n",
       "    .dataframe thead th {\n",
       "        text-align: right;\n",
       "    }\n",
       "</style>\n",
       "<table border=\"1\" class=\"dataframe\">\n",
       "  <thead>\n",
       "    <tr style=\"text-align: right;\">\n",
       "      <th></th>\n",
       "      <th>A</th>\n",
       "      <th>B</th>\n",
       "      <th>C</th>\n",
       "      <th>D</th>\n",
       "      <th>E</th>\n",
       "    </tr>\n",
       "  </thead>\n",
       "  <tbody>\n",
       "    <tr>\n",
       "      <td>0</td>\n",
       "      <td>0.558737</td>\n",
       "      <td>-0.689699</td>\n",
       "      <td>0.853262</td>\n",
       "      <td>0.270851</td>\n",
       "      <td>0.134071</td>\n",
       "    </tr>\n",
       "    <tr>\n",
       "      <td>1</td>\n",
       "      <td>-2.070171</td>\n",
       "      <td>-1.514859</td>\n",
       "      <td>-1.413037</td>\n",
       "      <td>0.253821</td>\n",
       "      <td>1.484072</td>\n",
       "    </tr>\n",
       "    <tr>\n",
       "      <td>2</td>\n",
       "      <td>1.034710</td>\n",
       "      <td>0.948821</td>\n",
       "      <td>1.502790</td>\n",
       "      <td>-0.487263</td>\n",
       "      <td>-0.681141</td>\n",
       "    </tr>\n",
       "    <tr>\n",
       "      <td>3</td>\n",
       "      <td>-0.748126</td>\n",
       "      <td>-0.283792</td>\n",
       "      <td>-0.249979</td>\n",
       "      <td>-0.326275</td>\n",
       "      <td>-0.573418</td>\n",
       "    </tr>\n",
       "    <tr>\n",
       "      <td>4</td>\n",
       "      <td>0.082693</td>\n",
       "      <td>0.151935</td>\n",
       "      <td>0.596887</td>\n",
       "      <td>-0.751293</td>\n",
       "      <td>-0.312903</td>\n",
       "    </tr>\n",
       "    <tr>\n",
       "      <td>5</td>\n",
       "      <td>-0.503388</td>\n",
       "      <td>-1.179796</td>\n",
       "      <td>0.735956</td>\n",
       "      <td>-0.930468</td>\n",
       "      <td>-1.709655</td>\n",
       "    </tr>\n",
       "    <tr>\n",
       "      <td>6</td>\n",
       "      <td>-0.665418</td>\n",
       "      <td>1.452067</td>\n",
       "      <td>1.415349</td>\n",
       "      <td>1.086858</td>\n",
       "      <td>-1.159439</td>\n",
       "    </tr>\n",
       "    <tr>\n",
       "      <td>7</td>\n",
       "      <td>-0.127376</td>\n",
       "      <td>-1.422871</td>\n",
       "      <td>-0.334567</td>\n",
       "      <td>-1.720186</td>\n",
       "      <td>1.279950</td>\n",
       "    </tr>\n",
       "    <tr>\n",
       "      <td>8</td>\n",
       "      <td>-0.438580</td>\n",
       "      <td>-0.345760</td>\n",
       "      <td>0.105766</td>\n",
       "      <td>0.025187</td>\n",
       "      <td>0.522760</td>\n",
       "    </tr>\n",
       "    <tr>\n",
       "      <td>9</td>\n",
       "      <td>0.325755</td>\n",
       "      <td>-0.180258</td>\n",
       "      <td>0.573176</td>\n",
       "      <td>0.157329</td>\n",
       "      <td>-0.773369</td>\n",
       "    </tr>\n",
       "  </tbody>\n",
       "</table>\n",
       "</div>"
      ],
      "text/plain": [
       "          A         B         C         D         E\n",
       "0  0.558737 -0.689699  0.853262  0.270851  0.134071\n",
       "1 -2.070171 -1.514859 -1.413037  0.253821  1.484072\n",
       "2  1.034710  0.948821  1.502790 -0.487263 -0.681141\n",
       "3 -0.748126 -0.283792 -0.249979 -0.326275 -0.573418\n",
       "4  0.082693  0.151935  0.596887 -0.751293 -0.312903\n",
       "5 -0.503388 -1.179796  0.735956 -0.930468 -1.709655\n",
       "6 -0.665418  1.452067  1.415349  1.086858 -1.159439\n",
       "7 -0.127376 -1.422871 -0.334567 -1.720186  1.279950\n",
       "8 -0.438580 -0.345760  0.105766  0.025187  0.522760\n",
       "9  0.325755 -0.180258  0.573176  0.157329 -0.773369"
      ]
     },
     "execution_count": 79,
     "metadata": {},
     "output_type": "execute_result"
    }
   ],
   "source": [
    "df1 = pd.DataFrame(np.random.randn(10,5), columns=['A','B','C','D', 'E'])\n",
    "df1"
   ]
  },
  {
   "cell_type": "code",
   "execution_count": 80,
   "metadata": {},
   "outputs": [
    {
     "data": {
      "text/html": [
       "<div>\n",
       "<style scoped>\n",
       "    .dataframe tbody tr th:only-of-type {\n",
       "        vertical-align: middle;\n",
       "    }\n",
       "\n",
       "    .dataframe tbody tr th {\n",
       "        vertical-align: top;\n",
       "    }\n",
       "\n",
       "    .dataframe thead th {\n",
       "        text-align: right;\n",
       "    }\n",
       "</style>\n",
       "<table border=\"1\" class=\"dataframe\">\n",
       "  <thead>\n",
       "    <tr style=\"text-align: right;\">\n",
       "      <th></th>\n",
       "      <th>A</th>\n",
       "      <th>B</th>\n",
       "      <th>C</th>\n",
       "      <th>D</th>\n",
       "      <th>E</th>\n",
       "    </tr>\n",
       "  </thead>\n",
       "  <tbody>\n",
       "    <tr>\n",
       "      <td>0</td>\n",
       "      <td>0.558737</td>\n",
       "      <td>-0.689699</td>\n",
       "      <td>0.853262</td>\n",
       "      <td>0.270851</td>\n",
       "      <td>0.134071</td>\n",
       "    </tr>\n",
       "    <tr>\n",
       "      <td>1</td>\n",
       "      <td>-2.070171</td>\n",
       "      <td>-1.514859</td>\n",
       "      <td>-1.413037</td>\n",
       "      <td>0.253821</td>\n",
       "      <td>1.484072</td>\n",
       "    </tr>\n",
       "    <tr>\n",
       "      <td>2</td>\n",
       "      <td>1.034710</td>\n",
       "      <td>0.948821</td>\n",
       "      <td>1.502790</td>\n",
       "      <td>-0.487263</td>\n",
       "      <td>-0.681141</td>\n",
       "    </tr>\n",
       "  </tbody>\n",
       "</table>\n",
       "</div>"
      ],
      "text/plain": [
       "          A         B         C         D         E\n",
       "0  0.558737 -0.689699  0.853262  0.270851  0.134071\n",
       "1 -2.070171 -1.514859 -1.413037  0.253821  1.484072\n",
       "2  1.034710  0.948821  1.502790 -0.487263 -0.681141"
      ]
     },
     "execution_count": 80,
     "metadata": {},
     "output_type": "execute_result"
    }
   ],
   "source": [
    "df1.head(3)"
   ]
  },
  {
   "cell_type": "code",
   "execution_count": 81,
   "metadata": {},
   "outputs": [
    {
     "data": {
      "text/html": [
       "<div>\n",
       "<style scoped>\n",
       "    .dataframe tbody tr th:only-of-type {\n",
       "        vertical-align: middle;\n",
       "    }\n",
       "\n",
       "    .dataframe tbody tr th {\n",
       "        vertical-align: top;\n",
       "    }\n",
       "\n",
       "    .dataframe thead th {\n",
       "        text-align: right;\n",
       "    }\n",
       "</style>\n",
       "<table border=\"1\" class=\"dataframe\">\n",
       "  <thead>\n",
       "    <tr style=\"text-align: right;\">\n",
       "      <th></th>\n",
       "      <th>A</th>\n",
       "      <th>B</th>\n",
       "      <th>C</th>\n",
       "      <th>D</th>\n",
       "      <th>E</th>\n",
       "    </tr>\n",
       "  </thead>\n",
       "  <tbody>\n",
       "    <tr>\n",
       "      <td>7</td>\n",
       "      <td>-0.127376</td>\n",
       "      <td>-1.422871</td>\n",
       "      <td>-0.334567</td>\n",
       "      <td>-1.720186</td>\n",
       "      <td>1.279950</td>\n",
       "    </tr>\n",
       "    <tr>\n",
       "      <td>8</td>\n",
       "      <td>-0.438580</td>\n",
       "      <td>-0.345760</td>\n",
       "      <td>0.105766</td>\n",
       "      <td>0.025187</td>\n",
       "      <td>0.522760</td>\n",
       "    </tr>\n",
       "    <tr>\n",
       "      <td>9</td>\n",
       "      <td>0.325755</td>\n",
       "      <td>-0.180258</td>\n",
       "      <td>0.573176</td>\n",
       "      <td>0.157329</td>\n",
       "      <td>-0.773369</td>\n",
       "    </tr>\n",
       "  </tbody>\n",
       "</table>\n",
       "</div>"
      ],
      "text/plain": [
       "          A         B         C         D         E\n",
       "7 -0.127376 -1.422871 -0.334567 -1.720186  1.279950\n",
       "8 -0.438580 -0.345760  0.105766  0.025187  0.522760\n",
       "9  0.325755 -0.180258  0.573176  0.157329 -0.773369"
      ]
     },
     "execution_count": 81,
     "metadata": {},
     "output_type": "execute_result"
    }
   ],
   "source": [
    "df1.tail(3)"
   ]
  },
  {
   "cell_type": "code",
   "execution_count": 82,
   "metadata": {},
   "outputs": [
    {
     "data": {
      "text/plain": [
       "RangeIndex(start=0, stop=10, step=1)"
      ]
     },
     "execution_count": 82,
     "metadata": {},
     "output_type": "execute_result"
    }
   ],
   "source": [
    "df1.index"
   ]
  },
  {
   "cell_type": "code",
   "execution_count": 83,
   "metadata": {},
   "outputs": [
    {
     "data": {
      "text/plain": [
       "Index(['A', 'B', 'C', 'D', 'E'], dtype='object')"
      ]
     },
     "execution_count": 83,
     "metadata": {},
     "output_type": "execute_result"
    }
   ],
   "source": [
    "df1.columns"
   ]
  },
  {
   "cell_type": "code",
   "execution_count": 84,
   "metadata": {},
   "outputs": [
    {
     "data": {
      "text/plain": [
       "array([[ 0.558737  , -0.6896986 ,  0.85326235,  0.27085084,  0.13407062],\n",
       "       [-2.07017051, -1.51485926, -1.41303711,  0.25382093,  1.48407215],\n",
       "       [ 1.0347096 ,  0.94882068,  1.50279017, -0.487263  , -0.68114071],\n",
       "       [-0.74812593, -0.28379151, -0.24997927, -0.32627487, -0.57341788],\n",
       "       [ 0.0826934 ,  0.15193504,  0.59688734, -0.75129313, -0.3129026 ],\n",
       "       [-0.50338828, -1.17979576,  0.73595641, -0.93046787, -1.70965468],\n",
       "       [-0.66541821,  1.45206729,  1.41534877,  1.08685844, -1.1594392 ],\n",
       "       [-0.12737598, -1.42287094, -0.33456718, -1.72018641,  1.27995018],\n",
       "       [-0.43858048, -0.34576012,  0.10576608,  0.02518689,  0.52275955],\n",
       "       [ 0.32575544, -0.18025795,  0.57317564,  0.15732858, -0.77336894]])"
      ]
     },
     "execution_count": 84,
     "metadata": {},
     "output_type": "execute_result"
    }
   ],
   "source": [
    "df1.values"
   ]
  },
  {
   "cell_type": "code",
   "execution_count": 85,
   "metadata": {},
   "outputs": [
    {
     "data": {
      "text/plain": [
       "numpy.ndarray"
      ]
     },
     "execution_count": 85,
     "metadata": {},
     "output_type": "execute_result"
    }
   ],
   "source": [
    "type(df1.values)"
   ]
  },
  {
   "cell_type": "markdown",
   "metadata": {},
   "source": [
    "### Getting Data In/Out\n",
    "\n",
    "#### CSV\n",
    "**CSV** (comma separated values) file is a text file in which the values in the\n",
    "columns are separated by a comma.\n",
    "\n",
    "CSV is preferred because of its simplicity, and it can be used with any spreadsheet program."
   ]
  },
  {
   "cell_type": "code",
   "execution_count": 86,
   "metadata": {},
   "outputs": [
    {
     "data": {
      "text/html": [
       "<div>\n",
       "<style scoped>\n",
       "    .dataframe tbody tr th:only-of-type {\n",
       "        vertical-align: middle;\n",
       "    }\n",
       "\n",
       "    .dataframe tbody tr th {\n",
       "        vertical-align: top;\n",
       "    }\n",
       "\n",
       "    .dataframe thead th {\n",
       "        text-align: right;\n",
       "    }\n",
       "</style>\n",
       "<table border=\"1\" class=\"dataframe\">\n",
       "  <thead>\n",
       "    <tr style=\"text-align: right;\">\n",
       "      <th></th>\n",
       "      <th>customer_id</th>\n",
       "      <th>first_name</th>\n",
       "      <th>last_name</th>\n",
       "      <th>email</th>\n",
       "      <th>address</th>\n",
       "      <th>city</th>\n",
       "      <th>state</th>\n",
       "      <th>zip</th>\n",
       "      <th>balance</th>\n",
       "    </tr>\n",
       "  </thead>\n",
       "  <tbody>\n",
       "    <tr>\n",
       "      <td>0</td>\n",
       "      <td>1</td>\n",
       "      <td>George</td>\n",
       "      <td>Washington</td>\n",
       "      <td>gwashington@usa.gov</td>\n",
       "      <td>3200 Mt Vernon Hwy</td>\n",
       "      <td>Mount Vernon</td>\n",
       "      <td>VA</td>\n",
       "      <td>22121</td>\n",
       "      <td>1000</td>\n",
       "    </tr>\n",
       "    <tr>\n",
       "      <td>1</td>\n",
       "      <td>2</td>\n",
       "      <td>John</td>\n",
       "      <td>Adams</td>\n",
       "      <td>jadams@usa.gov</td>\n",
       "      <td>1250 Hancock St</td>\n",
       "      <td>Quincy</td>\n",
       "      <td>MA</td>\n",
       "      <td>2169</td>\n",
       "      <td>500</td>\n",
       "    </tr>\n",
       "    <tr>\n",
       "      <td>2</td>\n",
       "      <td>3</td>\n",
       "      <td>Thomas</td>\n",
       "      <td>Jefferson</td>\n",
       "      <td>tjefferson@usa.gov</td>\n",
       "      <td>931 Thomas Jefferson Pkwy</td>\n",
       "      <td>Charlottesville</td>\n",
       "      <td>VA</td>\n",
       "      <td>22902</td>\n",
       "      <td>2500</td>\n",
       "    </tr>\n",
       "    <tr>\n",
       "      <td>3</td>\n",
       "      <td>4</td>\n",
       "      <td>James</td>\n",
       "      <td>Madison</td>\n",
       "      <td>jmadison@usa.gov</td>\n",
       "      <td>11350 Constitution Hwy</td>\n",
       "      <td>Orange</td>\n",
       "      <td>VA</td>\n",
       "      <td>22960</td>\n",
       "      <td>9000</td>\n",
       "    </tr>\n",
       "    <tr>\n",
       "      <td>4</td>\n",
       "      <td>5</td>\n",
       "      <td>James</td>\n",
       "      <td>Monroe</td>\n",
       "      <td>jmonroe@usa.gov</td>\n",
       "      <td>2050 James Monroe Pkwy</td>\n",
       "      <td>Charlottesville</td>\n",
       "      <td>VA</td>\n",
       "      <td>22902</td>\n",
       "      <td>1756</td>\n",
       "    </tr>\n",
       "  </tbody>\n",
       "</table>\n",
       "</div>"
      ],
      "text/plain": [
       "   customer_id first_name   last_name                email  \\\n",
       "0            1     George  Washington  gwashington@usa.gov   \n",
       "1            2       John       Adams       jadams@usa.gov   \n",
       "2            3     Thomas   Jefferson   tjefferson@usa.gov   \n",
       "3            4      James     Madison     jmadison@usa.gov   \n",
       "4            5      James      Monroe      jmonroe@usa.gov   \n",
       "\n",
       "                     address             city state    zip  balance  \n",
       "0         3200 Mt Vernon Hwy     Mount Vernon    VA  22121     1000  \n",
       "1            1250 Hancock St           Quincy    MA   2169      500  \n",
       "2  931 Thomas Jefferson Pkwy  Charlottesville    VA  22902     2500  \n",
       "3     11350 Constitution Hwy           Orange    VA  22960     9000  \n",
       "4     2050 James Monroe Pkwy  Charlottesville    VA  22902     1756  "
      ]
     },
     "execution_count": 86,
     "metadata": {},
     "output_type": "execute_result"
    }
   ],
   "source": [
    "df3 = pd.read_csv('customer.csv')\n",
    "df3"
   ]
  },
  {
   "cell_type": "code",
   "execution_count": 87,
   "metadata": {},
   "outputs": [],
   "source": [
    "df3.to_csv('customer2.csv', header=False, index=False, float_format='%.6f')"
   ]
  },
  {
   "cell_type": "markdown",
   "metadata": {},
   "source": [
    "#### JSON\n",
    "\n",
    "**JSON** (JavaScript Object Notation) stores data as text in human-readable format. JSON object is a key-value data format that is typically rendered in curly brackets. Arrays use square brackets.\n",
    "\n",
    "JSON is good for NoSQL data since its structure is more flexible and can handle tabular format."
   ]
  },
  {
   "cell_type": "code",
   "execution_count": 88,
   "metadata": {},
   "outputs": [
    {
     "name": "stdout",
     "output_type": "stream",
     "text": [
      "{\n",
      "    \"fruit\": [\"Apple\", \"Banana\", \"Orange\", \"Peach\", \"Pear\"],\n",
      "    \"size\": [\"Large\", \"Medium\", \"Small\", \"Small\", \"Large\"],\n",
      "    \"color\": [\"Red\", \"Yellow\", \"Orange\", \"Pink\", \"Green\"]\n",
      "}\n"
     ]
    },
    {
     "data": {
      "text/html": [
       "<div>\n",
       "<style scoped>\n",
       "    .dataframe tbody tr th:only-of-type {\n",
       "        vertical-align: middle;\n",
       "    }\n",
       "\n",
       "    .dataframe tbody tr th {\n",
       "        vertical-align: top;\n",
       "    }\n",
       "\n",
       "    .dataframe thead th {\n",
       "        text-align: right;\n",
       "    }\n",
       "</style>\n",
       "<table border=\"1\" class=\"dataframe\">\n",
       "  <thead>\n",
       "    <tr style=\"text-align: right;\">\n",
       "      <th></th>\n",
       "      <th>fruit</th>\n",
       "      <th>size</th>\n",
       "      <th>color</th>\n",
       "    </tr>\n",
       "  </thead>\n",
       "  <tbody>\n",
       "    <tr>\n",
       "      <td>0</td>\n",
       "      <td>Apple</td>\n",
       "      <td>Large</td>\n",
       "      <td>Red</td>\n",
       "    </tr>\n",
       "    <tr>\n",
       "      <td>1</td>\n",
       "      <td>Banana</td>\n",
       "      <td>Medium</td>\n",
       "      <td>Yellow</td>\n",
       "    </tr>\n",
       "    <tr>\n",
       "      <td>2</td>\n",
       "      <td>Orange</td>\n",
       "      <td>Small</td>\n",
       "      <td>Orange</td>\n",
       "    </tr>\n",
       "    <tr>\n",
       "      <td>3</td>\n",
       "      <td>Peach</td>\n",
       "      <td>Small</td>\n",
       "      <td>Pink</td>\n",
       "    </tr>\n",
       "    <tr>\n",
       "      <td>4</td>\n",
       "      <td>Pear</td>\n",
       "      <td>Large</td>\n",
       "      <td>Green</td>\n",
       "    </tr>\n",
       "  </tbody>\n",
       "</table>\n",
       "</div>"
      ],
      "text/plain": [
       "    fruit    size   color\n",
       "0   Apple   Large     Red\n",
       "1  Banana  Medium  Yellow\n",
       "2  Orange   Small  Orange\n",
       "3   Peach   Small    Pink\n",
       "4    Pear   Large   Green"
      ]
     },
     "execution_count": 88,
     "metadata": {},
     "output_type": "execute_result"
    }
   ],
   "source": [
    "!cat test.json\n",
    "#!type test.json\n",
    "df4 = pd.read_json('test.json')\n",
    "df4"
   ]
  },
  {
   "cell_type": "code",
   "execution_count": 89,
   "metadata": {},
   "outputs": [
    {
     "name": "stdout",
     "output_type": "stream",
     "text": [
      "{\"fruit\":\"Apple\",\"size\":\"Large\",\"color\":\"Red\"}\n",
      "{\"fruit\":\"Banana\",\"size\":\"Medium\",\"color\":\"Yellow\"}\n",
      "{\"fruit\":\"Orange\",\"size\":\"Small\",\"color\":\"Orange\"}\n",
      "{\"fruit\":\"Peach\",\"size\":\"Small\",\"color\":\"Pink\"}\n",
      "{\"fruit\":\"Pear\",\"size\":\"Large\",\"color\":\"Green\"}\n",
      "<class 'str'>\n"
     ]
    }
   ],
   "source": [
    "json_str = df4.to_json(orient='records', lines=True)\n",
    "print(json_str)\n",
    "print(type(json_str))"
   ]
  },
  {
   "cell_type": "markdown",
   "metadata": {},
   "source": [
    "#### Excel\n",
    "\n",
    "Excel is the best spreadsheet software package available."
   ]
  },
  {
   "cell_type": "code",
   "execution_count": 91,
   "metadata": {},
   "outputs": [
    {
     "name": "stdout",
     "output_type": "stream",
     "text": [
      "            first_name   last_name                email  \\\n",
      "customer_id                                               \n",
      "1               George  Washington  gwashington@usa.gov   \n",
      "2                 John       Adams       jadams@usa.gov   \n",
      "3               Thomas   Jefferson   tjefferson@usa.gov   \n",
      "4                James     Madison     jmadison@usa.gov   \n",
      "5                James      Monroe      jmonroe@usa.gov   \n",
      "\n",
      "                               address             city state    zip  \n",
      "customer_id                                                           \n",
      "1                   3200 Mt Vernon Hwy     Mount Vernon    VA  22121  \n",
      "2                      1250 Hancock St           Quincy    MA   2169  \n",
      "3            931 Thomas Jefferson Pkwy  Charlottesville    VA  22902  \n",
      "4               11350 Constitution Hwy           Orange    VA  22960  \n",
      "5               2050 James Monroe Pkwy  Charlottesville    VA  22902  \n"
     ]
    }
   ],
   "source": [
    "df5 = pd.read_excel('test.xlsx', index_col=0)\n",
    "print(df5)"
   ]
  },
  {
   "cell_type": "code",
   "execution_count": 92,
   "metadata": {},
   "outputs": [
    {
     "name": "stdout",
     "output_type": "stream",
     "text": [
      "\n",
      "DataFrame 0\n",
      "            first_name   last_name                email  \\\n",
      "customer_id                                               \n",
      "1               George  Washington  gwashington@usa.gov   \n",
      "2                 John       Adams       jadams@usa.gov   \n",
      "3               Thomas   Jefferson   tjefferson@usa.gov   \n",
      "4                James     Madison     jmadison@usa.gov   \n",
      "5                James      Monroe      jmonroe@usa.gov   \n",
      "\n",
      "                               address             city state    zip  \n",
      "customer_id                                                           \n",
      "1                   3200 Mt Vernon Hwy     Mount Vernon    VA  22121  \n",
      "2                      1250 Hancock St           Quincy    MA   2169  \n",
      "3            931 Thomas Jefferson Pkwy  Charlottesville    VA  22902  \n",
      "4               11350 Constitution Hwy           Orange    VA  22960  \n",
      "5               2050 James Monroe Pkwy  Charlottesville    VA  22902  \n",
      "\n",
      "DataFrame 1\n",
      "                   order_date   amount  customer_id\n",
      "order_id                                           \n",
      "1         1776-04-08 00:00:00  $234.56            1\n",
      "2                  03/14/1760   $78.50            3\n",
      "3                  05/23/1784  $124.00            2\n",
      "4         1790-03-10 00:00:00   $65.50            3\n",
      "5                  07/21/1795   $25.50           10\n",
      "6                  11/27/1787   $14.40            9\n"
     ]
    }
   ],
   "source": [
    "xl = pd.ExcelFile('test.xlsx')\n",
    "for i, name in enumerate(xl.sheet_names):\n",
    "    df = xl.parse(name, index_col=0)\n",
    "    print('\\nDataFrame', i)\n",
    "    print(df)"
   ]
  },
  {
   "cell_type": "code",
   "execution_count": 94,
   "metadata": {},
   "outputs": [],
   "source": [
    "with pd.ExcelWriter('test2.xlsx') as writer:\n",
    "    df2.to_excel(writer, sheet_name='Sheet1')\n",
    "    df4.to_excel(writer, sheet_name='Sheet2')"
   ]
  },
  {
   "cell_type": "markdown",
   "metadata": {},
   "source": [
    "For more details about Pandas I/O see at https://pandas.pydata.org/pandas-docs/stable/reference/io.html"
   ]
  },
  {
   "cell_type": "markdown",
   "metadata": {},
   "source": [
    "#### Convert Between NumPy and Pandas\n",
    "\n",
    "You can convert between Pandas DataFrame/Series and NumPy ndarray very easily"
   ]
  },
  {
   "cell_type": "code",
   "execution_count": 95,
   "metadata": {},
   "outputs": [
    {
     "data": {
      "text/plain": [
       "array([[ 0.558737  , -0.6896986 ,  0.85326235,  0.27085084,  0.13407062],\n",
       "       [-2.07017051, -1.51485926, -1.41303711,  0.25382093,  1.48407215],\n",
       "       [ 1.0347096 ,  0.94882068,  1.50279017, -0.487263  , -0.68114071],\n",
       "       [-0.74812593, -0.28379151, -0.24997927, -0.32627487, -0.57341788],\n",
       "       [ 0.0826934 ,  0.15193504,  0.59688734, -0.75129313, -0.3129026 ],\n",
       "       [-0.50338828, -1.17979576,  0.73595641, -0.93046787, -1.70965468],\n",
       "       [-0.66541821,  1.45206729,  1.41534877,  1.08685844, -1.1594392 ],\n",
       "       [-0.12737598, -1.42287094, -0.33456718, -1.72018641,  1.27995018],\n",
       "       [-0.43858048, -0.34576012,  0.10576608,  0.02518689,  0.52275955],\n",
       "       [ 0.32575544, -0.18025795,  0.57317564,  0.15732858, -0.77336894]])"
      ]
     },
     "execution_count": 95,
     "metadata": {},
     "output_type": "execute_result"
    }
   ],
   "source": [
    "a1 = np.array(df1)\n",
    "a1"
   ]
  },
  {
   "cell_type": "code",
   "execution_count": 96,
   "metadata": {},
   "outputs": [
    {
     "data": {
      "text/plain": [
       "dtype('float64')"
      ]
     },
     "execution_count": 96,
     "metadata": {},
     "output_type": "execute_result"
    }
   ],
   "source": [
    "a1.dtype"
   ]
  },
  {
   "cell_type": "code",
   "execution_count": 97,
   "metadata": {},
   "outputs": [
    {
     "data": {
      "text/plain": [
       "array([[1, 0, 'Hello'],\n",
       "       [1, 1, 'Hello'],\n",
       "       [1, 2, 'Hello']], dtype=object)"
      ]
     },
     "execution_count": 97,
     "metadata": {},
     "output_type": "execute_result"
    }
   ],
   "source": [
    "a2 = np.array(df2)\n",
    "a2"
   ]
  },
  {
   "cell_type": "code",
   "execution_count": 98,
   "metadata": {},
   "outputs": [
    {
     "data": {
      "text/plain": [
       "array([[1, 0, 'Hello'],\n",
       "       [1, 1, 'Hello'],\n",
       "       [1, 2, 'Hello']], dtype=object)"
      ]
     },
     "execution_count": 98,
     "metadata": {},
     "output_type": "execute_result"
    }
   ],
   "source": [
    "df2.values"
   ]
  },
  {
   "cell_type": "code",
   "execution_count": 99,
   "metadata": {},
   "outputs": [
    {
     "data": {
      "text/html": [
       "<div>\n",
       "<style scoped>\n",
       "    .dataframe tbody tr th:only-of-type {\n",
       "        vertical-align: middle;\n",
       "    }\n",
       "\n",
       "    .dataframe tbody tr th {\n",
       "        vertical-align: top;\n",
       "    }\n",
       "\n",
       "    .dataframe thead th {\n",
       "        text-align: right;\n",
       "    }\n",
       "</style>\n",
       "<table border=\"1\" class=\"dataframe\">\n",
       "  <thead>\n",
       "    <tr style=\"text-align: right;\">\n",
       "      <th></th>\n",
       "      <th>0</th>\n",
       "      <th>1</th>\n",
       "      <th>2</th>\n",
       "      <th>3</th>\n",
       "      <th>4</th>\n",
       "    </tr>\n",
       "  </thead>\n",
       "  <tbody>\n",
       "    <tr>\n",
       "      <td>0</td>\n",
       "      <td>0.558737</td>\n",
       "      <td>-0.689699</td>\n",
       "      <td>0.853262</td>\n",
       "      <td>0.270851</td>\n",
       "      <td>0.134071</td>\n",
       "    </tr>\n",
       "    <tr>\n",
       "      <td>1</td>\n",
       "      <td>-2.070171</td>\n",
       "      <td>-1.514859</td>\n",
       "      <td>-1.413037</td>\n",
       "      <td>0.253821</td>\n",
       "      <td>1.484072</td>\n",
       "    </tr>\n",
       "    <tr>\n",
       "      <td>2</td>\n",
       "      <td>1.034710</td>\n",
       "      <td>0.948821</td>\n",
       "      <td>1.502790</td>\n",
       "      <td>-0.487263</td>\n",
       "      <td>-0.681141</td>\n",
       "    </tr>\n",
       "    <tr>\n",
       "      <td>3</td>\n",
       "      <td>-0.748126</td>\n",
       "      <td>-0.283792</td>\n",
       "      <td>-0.249979</td>\n",
       "      <td>-0.326275</td>\n",
       "      <td>-0.573418</td>\n",
       "    </tr>\n",
       "    <tr>\n",
       "      <td>4</td>\n",
       "      <td>0.082693</td>\n",
       "      <td>0.151935</td>\n",
       "      <td>0.596887</td>\n",
       "      <td>-0.751293</td>\n",
       "      <td>-0.312903</td>\n",
       "    </tr>\n",
       "    <tr>\n",
       "      <td>5</td>\n",
       "      <td>-0.503388</td>\n",
       "      <td>-1.179796</td>\n",
       "      <td>0.735956</td>\n",
       "      <td>-0.930468</td>\n",
       "      <td>-1.709655</td>\n",
       "    </tr>\n",
       "    <tr>\n",
       "      <td>6</td>\n",
       "      <td>-0.665418</td>\n",
       "      <td>1.452067</td>\n",
       "      <td>1.415349</td>\n",
       "      <td>1.086858</td>\n",
       "      <td>-1.159439</td>\n",
       "    </tr>\n",
       "    <tr>\n",
       "      <td>7</td>\n",
       "      <td>-0.127376</td>\n",
       "      <td>-1.422871</td>\n",
       "      <td>-0.334567</td>\n",
       "      <td>-1.720186</td>\n",
       "      <td>1.279950</td>\n",
       "    </tr>\n",
       "    <tr>\n",
       "      <td>8</td>\n",
       "      <td>-0.438580</td>\n",
       "      <td>-0.345760</td>\n",
       "      <td>0.105766</td>\n",
       "      <td>0.025187</td>\n",
       "      <td>0.522760</td>\n",
       "    </tr>\n",
       "    <tr>\n",
       "      <td>9</td>\n",
       "      <td>0.325755</td>\n",
       "      <td>-0.180258</td>\n",
       "      <td>0.573176</td>\n",
       "      <td>0.157329</td>\n",
       "      <td>-0.773369</td>\n",
       "    </tr>\n",
       "  </tbody>\n",
       "</table>\n",
       "</div>"
      ],
      "text/plain": [
       "          0         1         2         3         4\n",
       "0  0.558737 -0.689699  0.853262  0.270851  0.134071\n",
       "1 -2.070171 -1.514859 -1.413037  0.253821  1.484072\n",
       "2  1.034710  0.948821  1.502790 -0.487263 -0.681141\n",
       "3 -0.748126 -0.283792 -0.249979 -0.326275 -0.573418\n",
       "4  0.082693  0.151935  0.596887 -0.751293 -0.312903\n",
       "5 -0.503388 -1.179796  0.735956 -0.930468 -1.709655\n",
       "6 -0.665418  1.452067  1.415349  1.086858 -1.159439\n",
       "7 -0.127376 -1.422871 -0.334567 -1.720186  1.279950\n",
       "8 -0.438580 -0.345760  0.105766  0.025187  0.522760\n",
       "9  0.325755 -0.180258  0.573176  0.157329 -0.773369"
      ]
     },
     "execution_count": 99,
     "metadata": {},
     "output_type": "execute_result"
    }
   ],
   "source": [
    "pd.DataFrame(a1)"
   ]
  },
  {
   "cell_type": "code",
   "execution_count": 100,
   "metadata": {},
   "outputs": [
    {
     "data": {
      "text/plain": [
       "0    0\n",
       "1    1\n",
       "2    2\n",
       "dtype: object"
      ]
     },
     "execution_count": 100,
     "metadata": {},
     "output_type": "execute_result"
    }
   ],
   "source": [
    "pd.Series(a2[:,1])"
   ]
  },
  {
   "cell_type": "markdown",
   "metadata": {},
   "source": [
    "[[top](#top)]\n",
    "\n",
    "----"
   ]
  }
 ],
 "metadata": {
  "kernelspec": {
   "display_name": "Python 3",
   "language": "python",
   "name": "python3"
  },
  "language_info": {
   "codemirror_mode": {
    "name": "ipython",
    "version": 3
   },
   "file_extension": ".py",
   "mimetype": "text/x-python",
   "name": "python",
   "nbconvert_exporter": "python",
   "pygments_lexer": "ipython3",
   "version": "3.7.0"
  }
 },
 "nbformat": 4,
 "nbformat_minor": 4
}
